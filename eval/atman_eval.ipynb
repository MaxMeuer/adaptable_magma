{
 "cells": [
  {
   "cell_type": "code",
   "execution_count": 1,
   "metadata": {},
   "outputs": [
    {
     "name": "stdout",
     "output_type": "stream",
     "text": [
      "env: CUDA_VISIBLE_DEVICES=\n"
     ]
    },
    {
     "name": "stderr",
     "output_type": "stream",
     "text": [
      "/home/ml-mmeuer/anaconda3/envs/nlp/lib/python3.9/site-packages/tqdm/auto.py:22: TqdmWarning: IProgress not found. Please update jupyter and ipywidgets. See https://ipywidgets.readthedocs.io/en/stable/user_install.html\n",
      "  from .autonotebook import tqdm as notebook_tqdm\n"
     ]
    }
   ],
   "source": [
    "%load_ext autoreload\n",
    "%autoreload 2\n",
    "%env CUDA_VISIBLE_DEVICES=\n",
    "from atman_magma.magma  import Magma\n",
    "from magma.utils import configure_param_groups, load_model\n",
    "from train import get_pretraining_datasets\n",
    "from atman_magma.explainer import Explainer\n",
    "from atman_magma.utils import split_str_into_tokens\n",
    "from atman_magma.logit_parsing import get_delta_cross_entropies\n",
    "from magma.image_input import ImageInput\n",
    "import matplotlib.pyplot as plt\n",
    "import numpy as np\n",
    "import cv2\n",
    "import deepspeed\n"
   ]
  },
  {
   "cell_type": "code",
   "execution_count": 2,
   "metadata": {},
   "outputs": [
    {
     "name": "stdout",
     "output_type": "stream",
     "text": [
      "Preparing layer idx: 0 of 27\n",
      "Preparing layer idx: 1 of 27\n",
      "Preparing layer idx: 2 of 27\n",
      "Preparing layer idx: 3 of 27\n",
      "Preparing layer idx: 4 of 27\n",
      "Preparing layer idx: 5 of 27\n",
      "Preparing layer idx: 6 of 27\n",
      "Preparing layer idx: 7 of 27\n",
      "Preparing layer idx: 8 of 27\n",
      "Preparing layer idx: 9 of 27\n",
      "Preparing layer idx: 10 of 27\n",
      "Preparing layer idx: 11 of 27\n",
      "Preparing layer idx: 12 of 27\n",
      "Preparing layer idx: 13 of 27\n",
      "Preparing layer idx: 14 of 27\n",
      "Preparing layer idx: 15 of 27\n",
      "Preparing layer idx: 16 of 27\n",
      "Preparing layer idx: 17 of 27\n",
      "Preparing layer idx: 18 of 27\n",
      "Preparing layer idx: 19 of 27\n",
      "Preparing layer idx: 20 of 27\n",
      "Preparing layer idx: 21 of 27\n",
      "Preparing layer idx: 22 of 27\n",
      "Preparing layer idx: 23 of 27\n",
      "Preparing layer idx: 24 of 27\n",
      "Preparing layer idx: 25 of 27\n",
      "Preparing layer idx: 26 of 27\n",
      "Preparing layer idx: 27 of 27\n"
     ]
    }
   ],
   "source": [
    "# deepspeed.init_distributed()\n",
    "\n",
    "model = Magma.from_checkpoint(\n",
    "            config= '/home/ml-mmeuer/adaptable_magma/fb20-dgx2-configs/dev.yml',\n",
    "            checkpoint_path='/home/ml-mmeuer/adaptable_magma/model_checkpoints/rationals-no-switch/mp_rank_00_model_states.pt',\n",
    "            device='cpu'\n",
    "        )\n",
    "tokenizer, config, transforms = model.tokenizer, model.config, model.transforms\n",
    "trainable_parameters = configure_param_groups(model, config)\n",
    "\n",
    "# load data:\n",
    "train_dataset, eval_dataset = get_pretraining_datasets(\n",
    "    config, tokenizer, transforms\n",
    ")"
   ]
  },
  {
   "cell_type": "code",
   "execution_count": null,
   "metadata": {},
   "outputs": [],
   "source": [
    "model = Magma.from_checkpoint(\n",
    "    config='./fb20-dgx2-configs/dev.yaml',\n",
    "    checkpoint_path='./',\n",
    ")"
   ]
  }
 ],
 "metadata": {
  "kernelspec": {
   "display_name": "nlp",
   "language": "python",
   "name": "python3"
  },
  "language_info": {
   "codemirror_mode": {
    "name": "ipython",
    "version": 3
   },
   "file_extension": ".py",
   "mimetype": "text/x-python",
   "name": "python",
   "nbconvert_exporter": "python",
   "pygments_lexer": "ipython3",
   "version": "3.9.0"
  },
  "orig_nbformat": 4,
  "vscode": {
   "interpreter": {
    "hash": "6dd78b44acf79f242ecca224d05742a1b089d3d2b8416bfe26aa6b4466f63f70"
   }
  }
 },
 "nbformat": 4,
 "nbformat_minor": 2
}

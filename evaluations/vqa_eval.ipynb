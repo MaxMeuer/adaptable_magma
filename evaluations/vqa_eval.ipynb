{
 "cells": [
  {
   "cell_type": "code",
   "execution_count": 1,
   "metadata": {},
   "outputs": [
    {
     "name": "stdout",
     "output_type": "stream",
     "text": [
      "env: CUDA_VISIBLE_DEVICES=4\n"
     ]
    }
   ],
   "source": [
    "%env CUDA_VISIBLE_DEVICES=4"
   ]
  },
  {
   "cell_type": "code",
   "execution_count": 2,
   "metadata": {},
   "outputs": [],
   "source": [
    "from magma import Magma\n",
    "from magma.image_input import ImageInput\n",
    "from activations.torch import Rational\n",
    "from magma.adapters import Adapter\n",
    "import random\n",
    "import torch\n",
    "from tqdm import tqdm\n",
    "import copy, json "
   ]
  },
  {
   "cell_type": "code",
   "execution_count": 3,
   "metadata": {},
   "outputs": [
    {
     "name": "stdout",
     "output_type": "stream",
     "text": [
      "Loading GPTJ language model...\n",
      "From EleutherAI/gpt-J-6B\n",
      "loading magma checkpoint from: ./../model_checkpoints/max_checkpts/upload/step_21500/mp_rank_00_model_states.pt\n",
      "magma successfully loaded\n"
     ]
    }
   ],
   "source": [
    "plain_magma = Magma.from_checkpoint(\n",
    "    checkpoint_path='./../model_checkpoints/max_checkpts/upload/step_21500/mp_rank_00_model_states.pt',\n",
    "                                    config_path='./../fb20-dgx2-configs/Magma_Plain.yml')"
   ]
  },
  {
   "cell_type": "code",
   "execution_count": 4,
   "metadata": {},
   "outputs": [
    {
     "name": "stdout",
     "output_type": "stream",
     "text": [
      "Loading GPTJ language model...\n",
      "From EleutherAI/gpt-j-6B\n"
     ]
    },
    {
     "ename": "KeyboardInterrupt",
     "evalue": "",
     "output_type": "error",
     "traceback": [
      "\u001b[0;31m---------------------------------------------------------------------------\u001b[0m",
      "\u001b[0;31mKeyboardInterrupt\u001b[0m                         Traceback (most recent call last)",
      "Cell \u001b[0;32mIn [4], line 2\u001b[0m\n\u001b[1;32m      1\u001b[0m \u001b[39m# model = Magma(config='./../fb20-dgx2-configs/dev.yml').cuda()\u001b[39;00m\n\u001b[0;32m----> 2\u001b[0m model \u001b[39m=\u001b[39m Magma\u001b[39m.\u001b[39;49mfrom_checkpoint(\n\u001b[1;32m      3\u001b[0m     checkpoint_path\u001b[39m=\u001b[39;49m\u001b[39m'\u001b[39;49m\u001b[39m./../model_checkpoints/switch2_7250.pt\u001b[39;49m\u001b[39m'\u001b[39;49m,\n\u001b[1;32m      4\u001b[0m     config_path\u001b[39m=\u001b[39;49m\u001b[39m'\u001b[39;49m\u001b[39m./../fb20-dgx2-configs/dev.yml\u001b[39;49m\u001b[39m'\u001b[39;49m)\u001b[39m.\u001b[39mcuda()\n",
      "File \u001b[0;32m~/adaptable_magma/magma/magma.py:413\u001b[0m, in \u001b[0;36mMagma.from_checkpoint\u001b[0;34m(cls, config_path, checkpoint_path, device)\u001b[0m\n\u001b[1;32m    408\u001b[0m     print_main(\n\u001b[1;32m    409\u001b[0m         \u001b[39mf\u001b[39m\u001b[39m'\u001b[39m\u001b[39mcheckpoint: \u001b[39m\u001b[39m{\u001b[39;00mcheckpoint_path\u001b[39m}\u001b[39;00m\u001b[39m does not exist, downloading model\u001b[39m\u001b[39m'\u001b[39m)\n\u001b[1;32m    410\u001b[0m     download_checkpoint(checkpoint_url\u001b[39m=\u001b[39mcheckpoint_url,\n\u001b[1;32m    411\u001b[0m                         save_as\u001b[39m=\u001b[39mcheckpoint_path)\n\u001b[0;32m--> 413\u001b[0m model \u001b[39m=\u001b[39m \u001b[39mcls\u001b[39;49m(config\u001b[39m=\u001b[39;49mconfig_path)\n\u001b[1;32m    414\u001b[0m sd \u001b[39m=\u001b[39m torch\u001b[39m.\u001b[39mload(checkpoint_path, map_location\u001b[39m=\u001b[39mtorch\u001b[39m.\u001b[39mdevice(\u001b[39m\"\u001b[39m\u001b[39mcpu\u001b[39m\u001b[39m\"\u001b[39m))\n\u001b[1;32m    415\u001b[0m \u001b[39mif\u001b[39;00m \u001b[39m\"\u001b[39m\u001b[39mmodule\u001b[39m\u001b[39m\"\u001b[39m \u001b[39min\u001b[39;00m sd\u001b[39m.\u001b[39mkeys():\n",
      "File \u001b[0;32m~/adaptable_magma/magma/magma.py:45\u001b[0m, in \u001b[0;36mMagma.__init__\u001b[0;34m(self, config)\u001b[0m\n\u001b[1;32m     42\u001b[0m \u001b[39mself\u001b[39m\u001b[39m.\u001b[39mconfig \u001b[39m=\u001b[39m config\n\u001b[1;32m     44\u001b[0m \u001b[39m# .to(self.device)\u001b[39;00m\n\u001b[0;32m---> 45\u001b[0m \u001b[39mself\u001b[39m\u001b[39m.\u001b[39mlm \u001b[39m=\u001b[39m get_gptj(config, from_pretrained\u001b[39m=\u001b[39;49mconfig\u001b[39m.\u001b[39;49mlm_name)\n\u001b[1;32m     46\u001b[0m \u001b[39mself\u001b[39m\u001b[39m.\u001b[39mseq_len \u001b[39m=\u001b[39m \u001b[39mself\u001b[39m\u001b[39m.\u001b[39mlm\u001b[39m.\u001b[39mconfig\u001b[39m.\u001b[39mmax_position_embeddings\n\u001b[1;32m     48\u001b[0m \u001b[39mself\u001b[39m\u001b[39m.\u001b[39mtokenizer \u001b[39m=\u001b[39m get_tokenizer(\n\u001b[1;32m     49\u001b[0m     config\u001b[39m.\u001b[39mtokenizer_name, sequence_length\u001b[39m=\u001b[39m\u001b[39mself\u001b[39m\u001b[39m.\u001b[39mseq_len)\n",
      "File \u001b[0;32m~/adaptable_magma/magma/language_model.py:29\u001b[0m, in \u001b[0;36mget_gptj\u001b[0;34m(config, gradient_checkpointing, from_pretrained)\u001b[0m\n\u001b[1;32m     26\u001b[0m \u001b[39mif\u001b[39;00m config\u001b[39m.\u001b[39mdeepspeed_config_params[\u001b[39m'\u001b[39m\u001b[39mfp16\u001b[39m\u001b[39m'\u001b[39m][\u001b[39m'\u001b[39m\u001b[39menabled\u001b[39m\u001b[39m'\u001b[39m] \u001b[39mis\u001b[39;00m \u001b[39mTrue\u001b[39;00m:\n\u001b[1;32m     27\u001b[0m     \u001b[39massert\u001b[39;00m \u001b[39misinstance\u001b[39m(\n\u001b[1;32m     28\u001b[0m         gptj_config, GPTJConfig), \u001b[39m\"\u001b[39m\u001b[39mGPT Version must be GPT-J if fp16 is enabled\u001b[39m\u001b[39m\"\u001b[39m\n\u001b[0;32m---> 29\u001b[0m     model \u001b[39m=\u001b[39m GPTJForCausalLM\u001b[39m.\u001b[39;49mfrom_pretrained(\n\u001b[1;32m     30\u001b[0m         from_pretrained, torch_dtype\u001b[39m=\u001b[39;49mtorch\u001b[39m.\u001b[39;49mfloat16, revision\u001b[39m=\u001b[39;49m\u001b[39m'\u001b[39;49m\u001b[39mfloat16\u001b[39;49m\u001b[39m'\u001b[39;49m, low_cpu_mem_usage\u001b[39m=\u001b[39;49m\u001b[39mTrue\u001b[39;49;00m, config\u001b[39m=\u001b[39;49mgptj_config\n\u001b[1;32m     31\u001b[0m     )\n\u001b[1;32m     33\u001b[0m \u001b[39melse\u001b[39;00m:\n\u001b[1;32m     34\u001b[0m     model \u001b[39m=\u001b[39m AutoModelForCausalLM\u001b[39m.\u001b[39mfrom_pretrained(\n\u001b[1;32m     35\u001b[0m         from_pretrained, config\u001b[39m=\u001b[39mgptj_config)\n",
      "File \u001b[0;32m~/anaconda3/envs/nlp/lib/python3.9/site-packages/transformers/modeling_utils.py:2348\u001b[0m, in \u001b[0;36mPreTrainedModel.from_pretrained\u001b[0;34m(cls, pretrained_model_name_or_path, *model_args, **kwargs)\u001b[0m\n\u001b[1;32m   2345\u001b[0m     \u001b[39mif\u001b[39;00m low_cpu_mem_usage \u001b[39mor\u001b[39;00m use_keep_in_fp32_modules:\n\u001b[1;32m   2346\u001b[0m         state_dict \u001b[39m=\u001b[39m \u001b[39mNone\u001b[39;00m\n\u001b[0;32m-> 2348\u001b[0m config\u001b[39m.\u001b[39mname_or_path \u001b[39m=\u001b[39m pretrained_model_name_or_path\n\u001b[1;32m   2350\u001b[0m \u001b[39m# Instantiate model.\u001b[39;00m\n\u001b[1;32m   2351\u001b[0m init_contexts \u001b[39m=\u001b[39m [no_init_weights(_enable\u001b[39m=\u001b[39m_fast_init)]\n",
      "File \u001b[0;32m~/anaconda3/envs/nlp/lib/python3.9/site-packages/transformers/configuration_utils.py:252\u001b[0m, in \u001b[0;36mPretrainedConfig.__setattr__\u001b[0;34m(self, key, value)\u001b[0m\n\u001b[1;32m    249\u001b[0m attribute_map: Dict[\u001b[39mstr\u001b[39m, \u001b[39mstr\u001b[39m] \u001b[39m=\u001b[39m {}\n\u001b[1;32m    250\u001b[0m _auto_class: Optional[\u001b[39mstr\u001b[39m] \u001b[39m=\u001b[39m \u001b[39mNone\u001b[39;00m\n\u001b[0;32m--> 252\u001b[0m \u001b[39mdef\u001b[39;00m \u001b[39m__setattr__\u001b[39m(\u001b[39mself\u001b[39m, key, value):\n\u001b[1;32m    253\u001b[0m     \u001b[39mif\u001b[39;00m key \u001b[39min\u001b[39;00m \u001b[39msuper\u001b[39m()\u001b[39m.\u001b[39m\u001b[39m__getattribute__\u001b[39m(\u001b[39m\"\u001b[39m\u001b[39mattribute_map\u001b[39m\u001b[39m\"\u001b[39m):\n\u001b[1;32m    254\u001b[0m         key \u001b[39m=\u001b[39m \u001b[39msuper\u001b[39m()\u001b[39m.\u001b[39m\u001b[39m__getattribute__\u001b[39m(\u001b[39m\"\u001b[39m\u001b[39mattribute_map\u001b[39m\u001b[39m\"\u001b[39m)[key]\n",
      "\u001b[0;31mKeyboardInterrupt\u001b[0m: "
     ]
    }
   ],
   "source": [
    "# model = Magma(config='./../fb20-dgx2-configs/dev.yml').cuda()\n",
    "model = Magma.from_checkpoint(\n",
    "    checkpoint_path='./../model_checkpoints/switch2_7250.pt',\n",
    "    config_path='./../fb20-dgx2-configs/dev.yml').cuda()"
   ]
  },
  {
   "cell_type": "code",
   "execution_count": 6,
   "metadata": {},
   "outputs": [],
   "source": [
    "import os, sys\n",
    "aokvqa_dir = '/home/ml-mmeuer/adaptable_magma/magma/datasets/aokvqa/'\n",
    "sys.path.append(os.path.abspath(os.path.join('..', 'aokvqa')))\n",
    "from aokvqa.load_aokvqa import load_aokvqa, get_coco_path\n",
    "from aokvqa.evaluation.eval_predictions import eval_aokvqa\n",
    "eval_set = load_aokvqa(aokvqa_dir, 'val') "
   ]
  },
  {
   "cell_type": "code",
   "execution_count": 18,
   "metadata": {},
   "outputs": [
    {
     "data": {
      "text/plain": [
       "'/home/ml-mmeuer/adaptable_magma/magma/datasets/aokvqa/OpenEnded_mscoco_val2014_questions.json'"
      ]
     },
     "execution_count": 18,
     "metadata": {},
     "output_type": "execute_result"
    }
   ],
   "source": [
    "os.path.join(okvqa_dir, f'OpenEnded_mscoco_{mode}2014_questions.json')"
   ]
  },
  {
   "cell_type": "code",
   "execution_count": null,
   "metadata": {},
   "outputs": [],
   "source": []
  },
  {
   "cell_type": "code",
   "execution_count": null,
   "metadata": {},
   "outputs": [],
   "source": []
  },
  {
   "cell_type": "code",
   "execution_count": 7,
   "metadata": {},
   "outputs": [],
   "source": [
    "ok_vqa_dir = '/home/ml-mmeuer/adaptable_magma/magma/datasets/OK_VQA/'\n",
    "mode = 'val'\n",
    "ok_vqa_val = json.load(open(os.path.join(ok_vqa_dir, f'OpenEnded_mscoco_{mode}2014_questions.json')))\n",
    "annotations = {}\n",
    "annotations_raw = json.load(open(f'/home/ml-mmeuer/adaptable_magma/magma/datasets/OK_VQA/mscoco_val2014_annotations.json'))\n",
    "\n",
    "for a in annotations_raw['annotations']:\n",
    "    answers = [ans['answer'] for ans in a['answers'] ]\n",
    "    annotations[a['question_id']] = {'answers': answers}"
   ]
  },
  {
   "cell_type": "code",
   "execution_count": 11,
   "metadata": {},
   "outputs": [],
   "source": [
    "def get_coco_path_2014(dir, id, mode): \n",
    "    return os.path.join(dir , f'COCO_{mode}2014_{id:012}.jpg')\n",
    "    "
   ]
  },
  {
   "cell_type": "code",
   "execution_count": 16,
   "metadata": {},
   "outputs": [
    {
     "name": "stdout",
     "output_type": "stream",
     "text": [
      "/home/ml-mmeuer/adaptable_magma/magma/datasets/coco/val2014/COCO_val2014_000000297147.jpg\n",
      " hd bike on a stand\n",
      "/home/ml-mmeuer/adaptable_magma/magma/datasets/coco/val2014/COCO_val2014_000000339761.jpg\n"
     ]
    },
    {
     "ename": "RuntimeError",
     "evalue": "probability tensor contains either `inf`, `nan` or element < 0",
     "output_type": "error",
     "traceback": [
      "\u001b[0;31m---------------------------------------------------------------------------\u001b[0m",
      "\u001b[0;31mRuntimeError\u001b[0m                              Traceback (most recent call last)",
      "Cell \u001b[0;32mIn [16], line 16\u001b[0m\n\u001b[1;32m     14\u001b[0m     embeddings \u001b[39m=\u001b[39m model_for_run\u001b[39m.\u001b[39mpreprocess_inputs(inputs)\u001b[39m.\u001b[39mcuda()\n\u001b[1;32m     15\u001b[0m     \u001b[39m# print('Answer: ', end='')\u001b[39;00m\n\u001b[0;32m---> 16\u001b[0m     answer \u001b[39m=\u001b[39m model_for_run\u001b[39m.\u001b[39;49mgenerate(\n\u001b[1;32m     17\u001b[0m         embeddings \u001b[39m=\u001b[39;49m embeddings,\n\u001b[1;32m     18\u001b[0m         max_steps \u001b[39m=\u001b[39;49m \u001b[39m6\u001b[39;49m,\n\u001b[1;32m     19\u001b[0m         temperature \u001b[39m=\u001b[39;49m \u001b[39m0.7\u001b[39;49m,\n\u001b[1;32m     20\u001b[0m         top_k \u001b[39m=\u001b[39;49m \u001b[39m0\u001b[39;49m,\n\u001b[1;32m     21\u001b[0m     )[\u001b[39m0\u001b[39m]   \n\u001b[1;32m     22\u001b[0m     \u001b[39mprint\u001b[39m(answer)\n\u001b[1;32m     23\u001b[0m \u001b[39mdef\u001b[39;00m \u001b[39meval_okvqa\u001b[39m(dataset, preds):\n",
      "File \u001b[0;32m~/anaconda3/envs/nlp/lib/python3.9/site-packages/torch/autograd/grad_mode.py:27\u001b[0m, in \u001b[0;36m_DecoratorContextManager.__call__.<locals>.decorate_context\u001b[0;34m(*args, **kwargs)\u001b[0m\n\u001b[1;32m     24\u001b[0m \u001b[39m@functools\u001b[39m\u001b[39m.\u001b[39mwraps(func)\n\u001b[1;32m     25\u001b[0m \u001b[39mdef\u001b[39;00m \u001b[39mdecorate_context\u001b[39m(\u001b[39m*\u001b[39margs, \u001b[39m*\u001b[39m\u001b[39m*\u001b[39mkwargs):\n\u001b[1;32m     26\u001b[0m     \u001b[39mwith\u001b[39;00m \u001b[39mself\u001b[39m\u001b[39m.\u001b[39mclone():\n\u001b[0;32m---> 27\u001b[0m         \u001b[39mreturn\u001b[39;00m func(\u001b[39m*\u001b[39;49margs, \u001b[39m*\u001b[39;49m\u001b[39m*\u001b[39;49mkwargs)\n",
      "File \u001b[0;32m~/adaptable_magma/magma/magma.py:323\u001b[0m, in \u001b[0;36mMagma.generate\u001b[0;34m(self, embeddings, max_steps, temperature, top_k, top_p, decode)\u001b[0m\n\u001b[1;32m    309\u001b[0m \u001b[39m@torch\u001b[39m\u001b[39m.\u001b[39mno_grad()\n\u001b[1;32m    310\u001b[0m \u001b[39mdef\u001b[39;00m \u001b[39mgenerate\u001b[39m(\n\u001b[1;32m    311\u001b[0m     \u001b[39mself\u001b[39m,\n\u001b[0;32m   (...)\u001b[0m\n\u001b[1;32m    317\u001b[0m     decode: \u001b[39mbool\u001b[39m \u001b[39m=\u001b[39m \u001b[39mTrue\u001b[39;00m,\n\u001b[1;32m    318\u001b[0m ):\n\u001b[1;32m    319\u001b[0m     \u001b[39m\"\"\"\u001b[39;00m\n\u001b[1;32m    320\u001b[0m \u001b[39m    Generates captions for a batch of embeddings.\u001b[39;00m\n\u001b[1;32m    321\u001b[0m \u001b[39m    \"\"\"\u001b[39;00m\n\u001b[0;32m--> 323\u001b[0m     \u001b[39mreturn\u001b[39;00m generate(\n\u001b[1;32m    324\u001b[0m         \u001b[39mself\u001b[39;49m,\n\u001b[1;32m    325\u001b[0m         embeddings\u001b[39m=\u001b[39;49membeddings,\n\u001b[1;32m    326\u001b[0m         max_steps\u001b[39m=\u001b[39;49mmax_steps,\n\u001b[1;32m    327\u001b[0m         temperature\u001b[39m=\u001b[39;49mtemperature,\n\u001b[1;32m    328\u001b[0m         top_k\u001b[39m=\u001b[39;49mtop_k,\n\u001b[1;32m    329\u001b[0m         top_p\u001b[39m=\u001b[39;49mtop_p,\n\u001b[1;32m    330\u001b[0m         decode\u001b[39m=\u001b[39;49mdecode,\n\u001b[1;32m    331\u001b[0m     )\n",
      "File \u001b[0;32m~/anaconda3/envs/nlp/lib/python3.9/site-packages/torch/autograd/grad_mode.py:27\u001b[0m, in \u001b[0;36m_DecoratorContextManager.__call__.<locals>.decorate_context\u001b[0;34m(*args, **kwargs)\u001b[0m\n\u001b[1;32m     24\u001b[0m \u001b[39m@functools\u001b[39m\u001b[39m.\u001b[39mwraps(func)\n\u001b[1;32m     25\u001b[0m \u001b[39mdef\u001b[39;00m \u001b[39mdecorate_context\u001b[39m(\u001b[39m*\u001b[39margs, \u001b[39m*\u001b[39m\u001b[39m*\u001b[39mkwargs):\n\u001b[1;32m     26\u001b[0m     \u001b[39mwith\u001b[39;00m \u001b[39mself\u001b[39m\u001b[39m.\u001b[39mclone():\n\u001b[0;32m---> 27\u001b[0m         \u001b[39mreturn\u001b[39;00m func(\u001b[39m*\u001b[39;49margs, \u001b[39m*\u001b[39;49m\u001b[39m*\u001b[39;49mkwargs)\n",
      "File \u001b[0;32m~/adaptable_magma/magma/sampling.py:108\u001b[0m, in \u001b[0;36mgenerate\u001b[0;34m(model, embeddings, max_steps, temperature, top_k, top_p, eos_token, decode)\u001b[0m\n\u001b[1;32m    106\u001b[0m         logits \u001b[39m=\u001b[39m top_p_filter(logits, threshold\u001b[39m=\u001b[39mtop_p)\n\u001b[1;32m    107\u001b[0m     probs \u001b[39m=\u001b[39m F\u001b[39m.\u001b[39msoftmax(logits \u001b[39m/\u001b[39m temperature, dim\u001b[39m=\u001b[39m\u001b[39m-\u001b[39m\u001b[39m1\u001b[39m)\n\u001b[0;32m--> 108\u001b[0m     next_token \u001b[39m=\u001b[39m torch\u001b[39m.\u001b[39;49mmultinomial(probs, num_samples\u001b[39m=\u001b[39;49m\u001b[39m1\u001b[39;49m)\n\u001b[1;32m    110\u001b[0m out \u001b[39m=\u001b[39m torch\u001b[39m.\u001b[39mcat((out, next_token), dim\u001b[39m=\u001b[39m\u001b[39m-\u001b[39m\u001b[39m1\u001b[39m)\n\u001b[1;32m    112\u001b[0m \u001b[39mif\u001b[39;00m eos_token \u001b[39mis\u001b[39;00m \u001b[39mnot\u001b[39;00m \u001b[39mNone\u001b[39;00m \u001b[39mand\u001b[39;00m (next_token \u001b[39m==\u001b[39m eos_token)\u001b[39m.\u001b[39mall():\n",
      "\u001b[0;31mRuntimeError\u001b[0m: probability tensor contains either `inf`, `nan` or element < 0"
     ]
    }
   ],
   "source": [
    "questions = json.load(open('/home/ml-mmeuer/adaptable_magma/magma/datasets/OK_VQA/OpenEnded_mscoco_val2014_questions.json'))\n",
    "coco_path = '/home/ml-mmeuer/adaptable_magma/magma/datasets/coco/val2014/'\n",
    "model_for_run = plain_magma.cuda()\n",
    "for q in questions['questions']:\n",
    "    print(get_coco_path_2014(coco_path, q['image_id'], 'val'))\n",
    "    image = ImageInput(get_coco_path_2014(coco_path, q['image_id'], 'val'))\n",
    "    prompt = q['question']\n",
    "    \n",
    "    inputs =[\n",
    "    ## supports urls and path/to/image\n",
    "    image,\n",
    "    prompt\n",
    "    ]   \n",
    "    embeddings = model_for_run.preprocess_inputs(inputs).cuda()\n",
    "    # print('Answer: ', end='')\n",
    "    answer = model_for_run.generate(\n",
    "        embeddings = embeddings,\n",
    "        max_steps = 6,\n",
    "        temperature = 0.7,\n",
    "        top_k = 0,\n",
    "    )[0]   \n",
    "    print(answer)\n",
    "def eval_okvqa(dataset, preds):\n",
    "    acc = []\n",
    "    for q in dataset.keys(): \n",
    "        if q not in eval_set.keys(): \n",
    "            acc.append(0.0)\n",
    "            continue\n",
    "        pred = preds[q]\n",
    "        choices = dataset"
   ]
  },
  {
   "cell_type": "code",
   "execution_count": 7,
   "metadata": {},
   "outputs": [],
   "source": [
    "def prompt_element(d, context=None, include_choices=False, answer=False):\n",
    "    return  f\"Q: {d['question']}\\n\" + \\\n",
    "           (f\"Choices: {', '.join(d['choices'])}.\\n\" if include_choices else '') + \\\n",
    "            f\"A:\" + (f\" {d['choices'][d['correct_choice_idx']]}\" if answer else '')"
   ]
  },
  {
   "cell_type": "code",
   "execution_count": null,
   "metadata": {},
   "outputs": [],
   "source": [
    "def eval_aokvqa(dataset, preds, multiple_choice=False, strict=True):\n",
    "    \n"
   ]
  },
  {
   "cell_type": "code",
   "execution_count": 9,
   "metadata": {},
   "outputs": [
    {
     "name": "stderr",
     "output_type": "stream",
     "text": [
      "100%|██████████| 1145/1145 [04:32<00:00,  4.20it/s]\n"
     ]
    },
    {
     "ename": "AttributeError",
     "evalue": "'float' object has no attribute 'detach'",
     "output_type": "error",
     "traceback": [
      "\u001b[0;31m---------------------------------------------------------------------------\u001b[0m",
      "\u001b[0;31mAttributeError\u001b[0m                            Traceback (most recent call last)",
      "Cell \u001b[0;32mIn [9], line 25\u001b[0m\n\u001b[1;32m     22\u001b[0m     exp_setup[\u001b[39m'\u001b[39m\u001b[39mpredictions\u001b[39m\u001b[39m'\u001b[39m][q] \u001b[39m=\u001b[39m { \u001b[39m'\u001b[39m\u001b[39mmultiple_choice\u001b[39m\u001b[39m'\u001b[39m: answer}\n\u001b[1;32m     24\u001b[0m eval_aokvqa_score \u001b[39m=\u001b[39m eval_aokvqa(eval_set, exp_setup[\u001b[39m'\u001b[39m\u001b[39mpredictions\u001b[39m\u001b[39m'\u001b[39m], multiple_choice\u001b[39m=\u001b[39m\u001b[39mTrue\u001b[39;00m,strict\u001b[39m=\u001b[39m\u001b[39mFalse\u001b[39;00m)\n\u001b[0;32m---> 25\u001b[0m exp_setup[\u001b[39m'\u001b[39m\u001b[39meval_aokvqa_score\u001b[39m\u001b[39m'\u001b[39m] \u001b[39m=\u001b[39m eval_aokvqa_score\u001b[39m.\u001b[39;49mdetach()\u001b[39m.\u001b[39mcpu()\u001b[39m.\u001b[39mnumpy()\n",
      "\u001b[0;31mAttributeError\u001b[0m: 'float' object has no attribute 'detach'"
     ]
    }
   ],
   "source": [
    "model_for_run = plain_magma.cuda()\n",
    "exp_setup = {}\n",
    "coco_dir = '/home/ml-mmeuer/adaptable_magma/magma/datasets/coco'\n",
    "predictions = {}\n",
    "for d in tqdm(eval_set):\n",
    "    q = d['question_id']\n",
    "    prompt = prompt_element(d, include_choices=True)\n",
    "    image = ImageInput(get_coco_path('val', d['image_id'], coco_dir = coco_dir))\n",
    "    inputs =[\n",
    "    ## supports urls and path/to/image\n",
    "    image,\n",
    "    prompt\n",
    "    ]   \n",
    "    embeddings = model_for_run.preprocess_inputs(inputs)\n",
    "    # print('Answer: ', end='')\n",
    "    answer = model_for_run.generate(\n",
    "        embeddings = embeddings,\n",
    "        max_steps = 6,\n",
    "        temperature = 0.7,\n",
    "        top_k = 0,\n",
    "    )[0] \n",
    "    predictions[q] = answer\n",
    "\n",
    "eval_aokvqa_score = eval_aokvqa(eval_set, exp_setup['predictions'], multiple_choice=True,strict=False)\n",
    "exp_setup['eval_aokvqa_score'] = eval_aokvqa_score.detach().cpu().numpy()"
   ]
  },
  {
   "cell_type": "code",
   "execution_count": 10,
   "metadata": {},
   "outputs": [
    {
     "data": {
      "text/plain": [
       "0.0"
      ]
     },
     "execution_count": 10,
     "metadata": {},
     "output_type": "execute_result"
    }
   ],
   "source": [
    "eval_aokvqa_score"
   ]
  },
  {
   "cell_type": "code",
   "execution_count": null,
   "metadata": {},
   "outputs": [],
   "source": []
  },
  {
   "cell_type": "code",
   "execution_count": 16,
   "metadata": {},
   "outputs": [
    {
     "name": "stderr",
     "output_type": "stream",
     "text": [
      "100%|██████████| 1145/1145 [04:41<00:00,  4.07it/s]\n"
     ]
    },
    {
     "ename": "TypeError",
     "evalue": "Object of type Tensor is not JSON serializable",
     "output_type": "error",
     "traceback": [
      "\u001b[0;31m---------------------------------------------------------------------------\u001b[0m",
      "\u001b[0;31mTypeError\u001b[0m                                 Traceback (most recent call last)",
      "Cell \u001b[0;32mIn [16], line 64\u001b[0m\n\u001b[1;32m     62\u001b[0m run_name \u001b[39m=\u001b[39m \u001b[39mf\u001b[39m\u001b[39m'\u001b[39m\u001b[39mRun_\u001b[39m\u001b[39m{\u001b[39;00mrun_idx\u001b[39m}\u001b[39;00m\u001b[39m_Hard_Switch\u001b[39m\u001b[39m{\u001b[39;00mhard_switch\u001b[39m}\u001b[39;00m\u001b[39m_N_Adapter_\u001b[39m\u001b[39m{\u001b[39;00mn_adapters\u001b[39m}\u001b[39;00m\u001b[39m_Identity_\u001b[39m\u001b[39m{\u001b[39;00mon_with_identity\u001b[39m}\u001b[39;00m\u001b[39m'\u001b[39m\n\u001b[1;32m     63\u001b[0m \u001b[39mwith\u001b[39;00m \u001b[39mopen\u001b[39m(\u001b[39mf\u001b[39m\u001b[39m'\u001b[39m\u001b[39m./../evaluations/\u001b[39m\u001b[39m{\u001b[39;00mrun_name\u001b[39m}\u001b[39;00m\u001b[39m.json\u001b[39m\u001b[39m'\u001b[39m, \u001b[39m'\u001b[39m\u001b[39mw\u001b[39m\u001b[39m'\u001b[39m) \u001b[39mas\u001b[39;00m f:\n\u001b[0;32m---> 64\u001b[0m     json\u001b[39m.\u001b[39;49mdump(exp_setup, f)\n",
      "File \u001b[0;32m~/anaconda3/envs/nlp/lib/python3.9/json/__init__.py:179\u001b[0m, in \u001b[0;36mdump\u001b[0;34m(obj, fp, skipkeys, ensure_ascii, check_circular, allow_nan, cls, indent, separators, default, sort_keys, **kw)\u001b[0m\n\u001b[1;32m    173\u001b[0m     iterable \u001b[39m=\u001b[39m \u001b[39mcls\u001b[39m(skipkeys\u001b[39m=\u001b[39mskipkeys, ensure_ascii\u001b[39m=\u001b[39mensure_ascii,\n\u001b[1;32m    174\u001b[0m         check_circular\u001b[39m=\u001b[39mcheck_circular, allow_nan\u001b[39m=\u001b[39mallow_nan, indent\u001b[39m=\u001b[39mindent,\n\u001b[1;32m    175\u001b[0m         separators\u001b[39m=\u001b[39mseparators,\n\u001b[1;32m    176\u001b[0m         default\u001b[39m=\u001b[39mdefault, sort_keys\u001b[39m=\u001b[39msort_keys, \u001b[39m*\u001b[39m\u001b[39m*\u001b[39mkw)\u001b[39m.\u001b[39miterencode(obj)\n\u001b[1;32m    177\u001b[0m \u001b[39m# could accelerate with writelines in some versions of Python, at\u001b[39;00m\n\u001b[1;32m    178\u001b[0m \u001b[39m# a debuggability cost\u001b[39;00m\n\u001b[0;32m--> 179\u001b[0m \u001b[39mfor\u001b[39;00m chunk \u001b[39min\u001b[39;00m iterable:\n\u001b[1;32m    180\u001b[0m     fp\u001b[39m.\u001b[39mwrite(chunk)\n",
      "File \u001b[0;32m~/anaconda3/envs/nlp/lib/python3.9/json/encoder.py:431\u001b[0m, in \u001b[0;36m_make_iterencode.<locals>._iterencode\u001b[0;34m(o, _current_indent_level)\u001b[0m\n\u001b[1;32m    429\u001b[0m     \u001b[39myield from\u001b[39;00m _iterencode_list(o, _current_indent_level)\n\u001b[1;32m    430\u001b[0m \u001b[39melif\u001b[39;00m \u001b[39misinstance\u001b[39m(o, \u001b[39mdict\u001b[39m):\n\u001b[0;32m--> 431\u001b[0m     \u001b[39myield from\u001b[39;00m _iterencode_dict(o, _current_indent_level)\n\u001b[1;32m    432\u001b[0m \u001b[39melse\u001b[39;00m:\n\u001b[1;32m    433\u001b[0m     \u001b[39mif\u001b[39;00m markers \u001b[39mis\u001b[39;00m \u001b[39mnot\u001b[39;00m \u001b[39mNone\u001b[39;00m:\n",
      "File \u001b[0;32m~/anaconda3/envs/nlp/lib/python3.9/json/encoder.py:405\u001b[0m, in \u001b[0;36m_make_iterencode.<locals>._iterencode_dict\u001b[0;34m(dct, _current_indent_level)\u001b[0m\n\u001b[1;32m    403\u001b[0m         \u001b[39melse\u001b[39;00m:\n\u001b[1;32m    404\u001b[0m             chunks \u001b[39m=\u001b[39m _iterencode(value, _current_indent_level)\n\u001b[0;32m--> 405\u001b[0m         \u001b[39myield from\u001b[39;00m chunks\n\u001b[1;32m    406\u001b[0m \u001b[39mif\u001b[39;00m newline_indent \u001b[39mis\u001b[39;00m \u001b[39mnot\u001b[39;00m \u001b[39mNone\u001b[39;00m:\n\u001b[1;32m    407\u001b[0m     _current_indent_level \u001b[39m-\u001b[39m\u001b[39m=\u001b[39m \u001b[39m1\u001b[39m\n",
      "File \u001b[0;32m~/anaconda3/envs/nlp/lib/python3.9/json/encoder.py:405\u001b[0m, in \u001b[0;36m_make_iterencode.<locals>._iterencode_dict\u001b[0;34m(dct, _current_indent_level)\u001b[0m\n\u001b[1;32m    403\u001b[0m         \u001b[39melse\u001b[39;00m:\n\u001b[1;32m    404\u001b[0m             chunks \u001b[39m=\u001b[39m _iterencode(value, _current_indent_level)\n\u001b[0;32m--> 405\u001b[0m         \u001b[39myield from\u001b[39;00m chunks\n\u001b[1;32m    406\u001b[0m \u001b[39mif\u001b[39;00m newline_indent \u001b[39mis\u001b[39;00m \u001b[39mnot\u001b[39;00m \u001b[39mNone\u001b[39;00m:\n\u001b[1;32m    407\u001b[0m     _current_indent_level \u001b[39m-\u001b[39m\u001b[39m=\u001b[39m \u001b[39m1\u001b[39m\n",
      "File \u001b[0;32m~/anaconda3/envs/nlp/lib/python3.9/json/encoder.py:438\u001b[0m, in \u001b[0;36m_make_iterencode.<locals>._iterencode\u001b[0;34m(o, _current_indent_level)\u001b[0m\n\u001b[1;32m    436\u001b[0m         \u001b[39mraise\u001b[39;00m \u001b[39mValueError\u001b[39;00m(\u001b[39m\"\u001b[39m\u001b[39mCircular reference detected\u001b[39m\u001b[39m\"\u001b[39m)\n\u001b[1;32m    437\u001b[0m     markers[markerid] \u001b[39m=\u001b[39m o\n\u001b[0;32m--> 438\u001b[0m o \u001b[39m=\u001b[39m _default(o)\n\u001b[1;32m    439\u001b[0m \u001b[39myield from\u001b[39;00m _iterencode(o, _current_indent_level)\n\u001b[1;32m    440\u001b[0m \u001b[39mif\u001b[39;00m markers \u001b[39mis\u001b[39;00m \u001b[39mnot\u001b[39;00m \u001b[39mNone\u001b[39;00m:\n",
      "File \u001b[0;32m~/anaconda3/envs/nlp/lib/python3.9/json/encoder.py:179\u001b[0m, in \u001b[0;36mJSONEncoder.default\u001b[0;34m(self, o)\u001b[0m\n\u001b[1;32m    160\u001b[0m \u001b[39mdef\u001b[39;00m \u001b[39mdefault\u001b[39m(\u001b[39mself\u001b[39m, o):\n\u001b[1;32m    161\u001b[0m     \u001b[39m\"\"\"Implement this method in a subclass such that it returns\u001b[39;00m\n\u001b[1;32m    162\u001b[0m \u001b[39m    a serializable object for ``o``, or calls the base implementation\u001b[39;00m\n\u001b[1;32m    163\u001b[0m \u001b[39m    (to raise a ``TypeError``).\u001b[39;00m\n\u001b[0;32m   (...)\u001b[0m\n\u001b[1;32m    177\u001b[0m \n\u001b[1;32m    178\u001b[0m \u001b[39m    \"\"\"\u001b[39;00m\n\u001b[0;32m--> 179\u001b[0m     \u001b[39mraise\u001b[39;00m \u001b[39mTypeError\u001b[39;00m(\u001b[39mf\u001b[39m\u001b[39m'\u001b[39m\u001b[39mObject of type \u001b[39m\u001b[39m{\u001b[39;00mo\u001b[39m.\u001b[39m\u001b[39m__class__\u001b[39m\u001b[39m.\u001b[39m\u001b[39m__name__\u001b[39m\u001b[39m}\u001b[39;00m\u001b[39m \u001b[39m\u001b[39m'\u001b[39m\n\u001b[1;32m    180\u001b[0m                     \u001b[39mf\u001b[39m\u001b[39m'\u001b[39m\u001b[39mis not JSON serializable\u001b[39m\u001b[39m'\u001b[39m)\n",
      "\u001b[0;31mTypeError\u001b[0m: Object of type Tensor is not JSON serializable"
     ]
    }
   ],
   "source": [
    "exp_log = {}\n",
    "run_idx = 1\n",
    "runs = 5 \n",
    "for hard_switch in [True, False]:\n",
    "    for on_with_identity in [True, False]:\n",
    "        for run in range(runs):\n",
    "            model_for_run = copy.deepcopy(model) \n",
    "            exp_setup = {\n",
    "                'hard_switch'  : hard_switch,\n",
    "                'switch':{}\n",
    "            }\n",
    "            n_adapters = 0\n",
    "            for n , m in model_for_run.named_modules():\n",
    "                if isinstance(m, Adapter):\n",
    "                    \n",
    "                    probs = m.switch_logits\n",
    "                    rendn = random.random()\n",
    "                    turn_adapter_on = rendn < probs[0]\n",
    "                    \n",
    "                    exp_setup['switch'][n] = turn_adapter_on.item()\n",
    "                    if turn_adapter_on:\n",
    "\n",
    "                        if on_with_identity: \n",
    "                            m.adapter_switch = False\n",
    "                        else: \n",
    "                            if hard_switch:\n",
    "                                m.fixed_idx = 0\n",
    "                                m.training = False\n",
    "                            m.adapter_switch = True\n",
    "                            m.training = True\n",
    "                        n_adapters += 1\n",
    "                    else: \n",
    "\n",
    "                        m.training = False\n",
    "                        m.fixed_idx = 1\n",
    "\n",
    "\n",
    "            exp_setup['n_adapters'] = n_adapters\n",
    "            exp_setup['predictions'] = {}\n",
    "            coco_dir = '/home/ml-mmeuer/adaptable_magma/magma/datasets/coco'\n",
    "            for d in tqdm(eval_set):\n",
    "                q = d['question_id']\n",
    "                prompt = prompt_element(d, include_choices=True)\n",
    "                image = ImageInput(get_coco_path('val', d['image_id'], coco_dir = coco_dir))\n",
    "                inputs =[\n",
    "                ## supports urls and path/to/image\n",
    "                image,\n",
    "                prompt\n",
    "                ]   \n",
    "                embeddings = model_for_run.preprocess_inputs(inputs)\n",
    "                # print('Answer: ', end='')\n",
    "                answer = model_for_run.generate(\n",
    "                    embeddings = embeddings,\n",
    "                    max_steps = 6,\n",
    "                    temperature = 0.7,\n",
    "                    top_k = 0,\n",
    "                )[0] \n",
    "                exp_setup['predictions'][q] = { 'multiple_choice': answer}\n",
    "            run_idx += 1\n",
    "            eval_aokvqa_score = eval_aokvqa(eval_set, exp_setup['predictions'], multiple_choice=True,strict=False)\n",
    "            exp_setup['eval_aokvqa_score'] = eval_aokvqa_score.detach().cpu().numpy()\n",
    "            run_name = f'Run_{run_idx}_Hard_Switch{hard_switch}_N_Adapter_{n_adapters}_Identity_{on_with_identity}'\n",
    "            with open(f'./aokvqa_runs/{run_name}.json', 'w') as f:\n",
    "                json.dump(exp_setup, f)\n",
    "            \n",
    "        "
   ]
  },
  {
   "cell_type": "code",
   "execution_count": 27,
   "metadata": {},
   "outputs": [
    {
     "name": "stdout",
     "output_type": "stream",
     "text": [
      "hard_switch True\n",
      "switch {'lm.transformer.h.0.mlp.1': tensor(False, device='cuda:0'), 'lm.transformer.h.1.mlp.1': tensor(False, device='cuda:0'), 'lm.transformer.h.2.mlp.1': tensor(False, device='cuda:0'), 'lm.transformer.h.3.mlp.1': tensor(False, device='cuda:0'), 'lm.transformer.h.4.mlp.1': tensor(False, device='cuda:0'), 'lm.transformer.h.5.mlp.1': tensor(False, device='cuda:0'), 'lm.transformer.h.6.mlp.1': tensor(True, device='cuda:0'), 'lm.transformer.h.7.mlp.1': tensor(False, device='cuda:0'), 'lm.transformer.h.8.mlp.1': tensor(False, device='cuda:0'), 'lm.transformer.h.9.mlp.1': tensor(False, device='cuda:0'), 'lm.transformer.h.10.mlp.1': tensor(False, device='cuda:0'), 'lm.transformer.h.11.mlp.1': tensor(False, device='cuda:0'), 'lm.transformer.h.12.mlp.1': tensor(False, device='cuda:0'), 'lm.transformer.h.13.mlp.1': tensor(False, device='cuda:0'), 'lm.transformer.h.14.mlp.1': tensor(False, device='cuda:0'), 'lm.transformer.h.15.mlp.1': tensor(False, device='cuda:0'), 'lm.transformer.h.16.mlp.1': tensor(False, device='cuda:0'), 'lm.transformer.h.17.mlp.1': tensor(False, device='cuda:0'), 'lm.transformer.h.18.mlp.1': tensor(False, device='cuda:0'), 'lm.transformer.h.19.mlp.1': tensor(False, device='cuda:0'), 'lm.transformer.h.20.mlp.1': tensor(False, device='cuda:0'), 'lm.transformer.h.21.mlp.1': tensor(False, device='cuda:0'), 'lm.transformer.h.22.mlp.1': tensor(False, device='cuda:0'), 'lm.transformer.h.23.mlp.1': tensor(False, device='cuda:0'), 'lm.transformer.h.24.mlp.1': tensor(False, device='cuda:0'), 'lm.transformer.h.25.mlp.1': tensor(False, device='cuda:0'), 'lm.transformer.h.26.mlp.1': tensor(False, device='cuda:0'), 'lm.transformer.h.27.mlp.1': tensor(False, device='cuda:0')}\n",
      "n_adapters 1\n",
      "predictions {'22jbM6gDxdaMaunuzgrsBB': {'multiple_choice': ' toothpick '}, '2Aq5RiEn7eyfWjEbpuYT2o': {'multiple_choice': ' nine '}, '2Br4bJfKY7SQM9DECrqqeG': {'multiple_choice': ' cold '}, '2C8riXpRLX3CyM5jDz23m7': {'multiple_choice': ' ice cream '}, '2DQex53EkNGH2cfo3WPuPn': {'multiple_choice': ' keyboard. '}, '2GhdXLaZFBYHSip4rvYKfK': {'multiple_choice': ' A person. '}, '2LCLpdpD3yy2dgH5tQbcFe': {'multiple_choice': ' hair dryer. '}, '2N5sYXgyFqbDnuUhJFAWr5': {'multiple_choice': ' barren '}, '2P5mVJc5a6DcCN9opV92FJ': {'multiple_choice': ' B: crouching, leaping'}, '2PGwvdFESLvwfFCwK5pbYu': {'multiple_choice': ' Flannel. '}, '2RN4dwhRZR3ZSKHtRnJdX3': {'multiple_choice': ' United States. '}, '2U3SiXdyEgJBHNThL4YbPz': {'multiple_choice': ' the table. '}, '2YfYkRjcnnsVzjycPehWPA': {'multiple_choice': ' grapes '}, '2etjUMchktfSY5fgGg5msL': {'multiple_choice': ' cough drops '}, '2oPzCyj5FjrKtBLjGZH2rF': {'multiple_choice': ' what flag is represented on the'}, '2rC38fZh4n6ZXcyrUEKukj': {'multiple_choice': ' books, dvds,'}, '2sUggWn8qBk97E38wKpjN5': {'multiple_choice': ' this is a daytime scene.'}, '2vGs6CLETM2BJPstdHjku9': {'multiple_choice': ' drink '}, '2wbNBVZMGZnVpYohDAed8d': {'multiple_choice': ' event '}, '2xDeTCXSRqdhvREBDhHsMx': {'multiple_choice': ' no sit chocolate cake '}, '2xn24MrfJ2mLJC7xDBGUJA': {'multiple_choice': \" it's an ICE brand.\"}, '2yWyzYRyZuYH2ZB49WNACa': {'multiple_choice': ' frisbee. '}, '2zTqTkKqa89GUKLzMUkDic': {'multiple_choice': ' human '}, '34ah8AmQenWUyH2fZvJH7a': {'multiple_choice': ' ile a - resorts '}, '399Vdu2QjamF3vheUvbRg2': {'multiple_choice': ' air '}, '39CcpmwATuiwiZLZo3XMuv': {'multiple_choice': ' left, right, down.'}, '3R6SnZ4MRGXXvao5ARVE8e': {'multiple_choice': ' Police. '}, '3SKKn3bQ4xhiDpkesifdod': {'multiple_choice': ' usa '}, '3X8TsFBRS7mBsBbyFDzRdb': {'multiple_choice': ' prosciutto '}, '3asRExdxmWQtJw4sv49AGZ': {'multiple_choice': ' open doors '}, '3cCvfCWnLfrmqYEaFzb2Xm': {'multiple_choice': \" I'm not a goat.\"}, '3echacwmLBUByWpjh85Mfv': {'multiple_choice': ' white bag, food, paper'}, '3ef8KXbKoJaJZyVmxVZMaq': {'multiple_choice': ' urn '}, '3hvf4MjtcgpFznUWS5bbvj': {'multiple_choice': ' lacrosse '}, '3qnvp3XRGpc5L6RMhRZ3gg': {'multiple_choice': ' body wash, shampoo conditioner'}, '3vbWi2p7C9SSUHWSdbMYbE': {'multiple_choice': ' wii boxing. '}, '3w3DT989GgT6yjqurjvmt6': {'multiple_choice': ' bunt '}, '3zxLUD8FPcCLJWYsG7h2KY': {'multiple_choice': ' domestic kitchen. '}, '455nQuaxbURN5ofLfbCqfq': {'multiple_choice': ' not possible '}, '45ZJiwQ8E4sqUTyJSUzEN3': {'multiple_choice': ' plastic '}, '49CisPCc2LiA5TUAdHZgXe': {'multiple_choice': ' dog '}, '4BFN6MtJcaFzpccm3UwZva': {'multiple_choice': ' sitting room. '}, '4C2cZitDfGX5ytw6YTcxiL': {'multiple_choice': ' door. '}, '4FBqxbmT4zCDwWzm3gH7LY': {'multiple_choice': ' yes '}, '4H7KMfvPvCTSvtf8Uyp55D': {'multiple_choice': ' keeping stats for player. '}, '4HXTUJHey3SSzuoE66yHKi': {'multiple_choice': ' striped, plaid, uniform'}, '4PvLY9C3GyARH3WSGYbYFq': {'multiple_choice': ' asian, american,'}, '4U4iSWxvXv9RtE6V9KpxJo': {'multiple_choice': ' A plane. '}, '4UrYfZMUToiF5f7GK6eMaz': {'multiple_choice': ' Fashion '}, '4YvFMFoDw46kzXhajSgc9W': {'multiple_choice': ' yes, food, yes,'}, '4Z7WvuLTj7VUpVtLL2W2g7': {'multiple_choice': ' shower, vanity, bath,'}, '4cdYbJFFeKXJr6LbKgcxTa': {'multiple_choice': ' beach. '}, '4dnt6ahNTCENKrvBhExyvV': {'multiple_choice': ' yes '}, '4iV8UfNJs7Wy6XAt9SHMVJ': {'multiple_choice': ' bedroom '}, '4j6bW4ChHncMKUnmnGAQQ2': {'multiple_choice': ' Family. '}, '4jnshoBeGDGmRjspTuvr29': {'multiple_choice': ' monster truck '}, '4mgcpzD4d6adkPQP7cxg54': {'multiple_choice': ' new york '}, '4t5DcDdFbw5x9PVRKis5AQ': {'multiple_choice': ' beer, gin, coffee '}, '4wVv7CDVuQNaz7LLHDg89t': {'multiple_choice': ' truck '}, '4xBq7ak8qCE92z8vddKXtu': {'multiple_choice': 'south '}, '4yd2xqYxWenwSYEucHnNXR': {'multiple_choice': ' italy, spain,'}, '4yq3AnREQ4PP7MXMWvBb5a': {'multiple_choice': ' '}, '5AhBQW2ucGSwJbPTtXHTFd': {'multiple_choice': ' trains. '}, '5LTzpByXwsWGViYAXqiVEX': {'multiple_choice': ' tennis rackets '}, '5NysKUokKJcrFfUcBbr9Vo': {'multiple_choice': ' not sure '}, '5QURaRC8e3HjPpYC2GrX4u': {'multiple_choice': ' pepperoni. '}, '5Re4MQxw5XwLbQQzqQVZcV': {'multiple_choice': ' soup '}, '5S32A279iAfRetbkeWJd77': {'multiple_choice': ' silver car. '}, '5SgmGLJtR47rB539V4Jwt6': {'multiple_choice': ' Yes. '}, '5TbBvzzr5N35YUs7yBd7Ah': {'multiple_choice': ' chain.\\nR: post'}, '5XBmJitjSm9g7SQqNxYpe7': {'multiple_choice': ' counter '}, '5Y5u3gnReRQbzkRnGw5ywd': {'multiple_choice': ' asphalt '}, '5aRkxnYoakzDQFyDGb9qJ2': {'multiple_choice': ' eva mendes '}, '5aXXZiPUcUzScs2do5tjYs': {'multiple_choice': ' The image of a cake with'}, '5cNGmGcUxJP7rwHnc6BXrs': {'multiple_choice': ' dining. '}, '5fDUuYWCZMudfXVEPywFYc': {'multiple_choice': ' over 40 '}, '5gQSkSh2eK3ZZ8bEyweBiA': {'multiple_choice': \" I don't know. \"}, '5jGPL4u8JFHkLyQCG354uG': {'multiple_choice': ' bow, kite, flag'}, '5oBisjqVjcXEXGkd2uKPDe': {'multiple_choice': ' phone. '}, '5wfUGvXtyEw22kABjGaHxT': {'multiple_choice': ' fish '}, '5z9Zmf4GRKoCa7igqv4Ef7': {'multiple_choice': ' clothing choice '}, '64o6jMUzFmawogFAYnhNoh': {'multiple_choice': ' camouflage (always a good choice'}, '64yPpMFbTw3CnmTULYZWTp': {'multiple_choice': ' paris '}, '65Sfsx6hqdJ5UqNWLB3RCG': {'multiple_choice': ' zoo '}, '66abRGQG535WgzgU5Ue9ru': {'multiple_choice': \" store's front door. \"}, '6EzruBdkEgwx74NmrhoyBV': {'multiple_choice': ' door '}, '6FKSZrTS9wzHwnKasBSfdP': {'multiple_choice': ' The white cream is used to'}, '6HizsyvwUgduwabP2dWha5': {'multiple_choice': ' Blonde woman playing with a'}, '6J2yw53YiEDoNpMSt9mSsC': {'multiple_choice': ' 2 people in a room.'}, '6LfBvcynQvD7BaU3CCvfNG': {'multiple_choice': ' yes. '}, '6Ps8BgA4pbvK4eKToCDQqu': {'multiple_choice': ' bookshelf, lamp,'}, '6Qf2MxVMdHGnxrEZ3xGn7Q': {'multiple_choice': ' In this scene the taxi cab'}, '6QuPF6pNBjs3DEXQh4AQt4': {'multiple_choice': ' to eat '}, '6SYTPwk8BEHMp486oLsFgw': {'multiple_choice': ' New Jersey. '}, '6YyPKdGwhA3LJkUpL3p9F6': {'multiple_choice': ' skating. '}, '6bXnCzchqyDdBZcBGGNbmm': {'multiple_choice': ' a city of warehouse buildings.'}, '6fCWweqmigW6UaiyaHq4Sy': {'multiple_choice': ' Blake Shelton '}, '6kgVidVJRysLz6Rx3eNBZi': {'multiple_choice': ' alley. '}, '6kpEuXnXz4ghWMLLBcRjmf': {'multiple_choice': ' no entry '}, '6kv3CWDoRDsm2DnUCHRgmk': {'multiple_choice': ' office, home, zoo,'}, '6nV6KKMbWYsw8Rv9Sw7k2N': {'multiple_choice': ' snow white '}, '6ony7mfRzE7tEhj5udEe5u': {'multiple_choice': ' art show '}, '6pLYuYn5suAGgoBgJ4Z6HC': {'multiple_choice': ' show, riding, training,'}, '6pTSACKywJKkVRa7WGmzKe': {'multiple_choice': ' Yes. '}, '6phsfhJ9iw5j6nYTpVBd9A': {'multiple_choice': ' strangers. '}, '6vnibNuMQyy5nWAxNEGTgj': {'multiple_choice': ' no choice possible '}, '6xTMCHe4ABbm6NDntoEkLJ': {'multiple_choice': ' palm tree '}, '73ixwXaUcqfgsJYLzCABWC': {'multiple_choice': ' kite. '}, '73kd5sUo4zXkApi6v4X8Qc': {'multiple_choice': ' Chinese '}, '74CMNF7KTeAFsXza5GJLGb': {'multiple_choice': ' school bus. '}, '764XKetFB6T3wsiABqc79e': {'multiple_choice': ' triangles '}, '767TWXi3wYjFiBX3YXyMuU': {'multiple_choice': ' a painting '}, '79yRxKFXwWZZiCBAHtJqeE': {'multiple_choice': ' eighteenth '}, '7CWwGUgRqbPEiGcZEzFVEF': {'multiple_choice': ' A dog. '}, '7CrtnvrK5CTs6c9RC8WgPB': {'multiple_choice': ' dodge '}, '7DWnTRkU9e86XMwb7QqxYd': {'multiple_choice': ' oven '}, '7Hndh7JzZ7BizC4XDSV5Z5': {'multiple_choice': ' feral '}, '7KNmiZTYRQBHMJKJ9zkAjR': {'multiple_choice': ' '}, '7L2zGA6XFJrPCfLJCwBrww': {'multiple_choice': ' walking. '}, '7NXz8t4QzQWvJzpHqfPzRw': {'multiple_choice': ' Spectating '}, '7NbKNXQWBYJ8HTRo2J8CoU': {'multiple_choice': ' tie. '}, '7NxakvvZZEHKsh8MbNHHvz': {'multiple_choice': ' pint glass '}, '7RjA6a3CFR8w5fVRc8Arji': {'multiple_choice': ' atkins '}, '7ViVwUt2pnJxqcZoeTc4TR': {'multiple_choice': ' In front of a fence.'}, '7VodQFaYKxhUwQ5tpFSkRo': {'multiple_choice': ' beer, liquer, water'}, '7Wj97TEQc4fnsxvvsbnUXH': {'multiple_choice': ' yes. '}, '7YTajnBGjXEmwuYjmsXsdX': {'multiple_choice': ' disney world '}, '7ZA9sk8eRjBsisqK4EgQM2': {'multiple_choice': ' a cat. '}, '7dxcZiZowsAK34QswVhXy3': {'multiple_choice': ' below freezing '}, '7hKGdKpiEqfqB8dEeAw9hu': {'multiple_choice': ' hail '}, '7jkWRB4pt8ZordP6wDAvbT': {'multiple_choice': ' radio, camera, building.'}, '7pAKkw446jdqTk9peDKjyY': {'multiple_choice': ' basement. '}, '7xotSD89TZKNHK4rMZLzfo': {'multiple_choice': ' parrots, eagles,'}, '82bLyanbdDeEq6mkVa3YGM': {'multiple_choice': ' british and canadian'}, '859iiHHEi5eRJHipVattDU': {'multiple_choice': ' lacrosse '}, '86vHZcPAsgzHoG4VL93xqr': {'multiple_choice': ' blue team '}, '87sGM3r7nnhwncMAKMtbuo': {'multiple_choice': ' laptop '}, '8HQ9sy9TdK4XZffkkhmtRW': {'multiple_choice': ' tusks, pyth'}, '8KFq64eMdw4qeAp2JXe96r': {'multiple_choice': ' restuarant at the station'}, '8KqQoveNzvvZSgxxPeepUY': {'multiple_choice': ' red bus '}, '8LVHUcGX7daYbXPh59c8pW': {'multiple_choice': ' airplane. '}, '8MMdCgrej5iBZ7PitRYrt3': {'multiple_choice': ' suitcase. '}, '8MrFkkmRAk7E8ccS8FPZ8S': {'multiple_choice': ' to punish, to plow'}, '8PZriuWuwokXCriqVBZwSJ': {'multiple_choice': ' train tracks. '}, '8Q69Bei8UReA69MSuQAcLT': {'multiple_choice': ' picture '}, '8Qivn8LXSmWYmn7zgKGiw4': {'multiple_choice': ' car '}, '8R6BwQYURjKQu4FPYr8TpL': {'multiple_choice': ' new york, los angel'}, '8RDETmscMEEsHh6Sbekaa6': {'multiple_choice': ' confused, smiling, crying,'}, '8SzR5UpGtrsFWoxheZ9SkE': {'multiple_choice': ' Nintendo wii. '}, '8dWqzZJR3MvHHSGAAzAEJy': {'multiple_choice': ' full-service insurance company.'}, '8enBCTrMj57db8JVq9wyPq': {'multiple_choice': ' \\xa0meatballs. '}, '8k5Wnk4jb9ZzTN8EHrqNS3': {'multiple_choice': ' tissues '}, '8pfeZwe43HT9mMjVmdZhzm': {'multiple_choice': ' three '}, '8qqTsLQFXdEDT9oeVgZekp': {'multiple_choice': ' yes, zebras '}, '8spFMseWd5TyYXt4LygCE5': {'multiple_choice': ' of them are holding her hands'}, '8tjSG5kCpUsF7QaQsPoJcG': {'multiple_choice': ' los angeles, riverton'}, '8uQHFZsgJwvQPuvYs7reMA': {'multiple_choice': ' parking '}, '8vnLAkEcA5mAC66h59f4dE': {'multiple_choice': ' yes '}, '8vuMQFQGMNiU6TcoNUNe2U': {'multiple_choice': ' ice cream vendor '}, '8vzpRWS6dDNrFCouzebMm9': {'multiple_choice': ' wii controller '}, '8w7GuH4PjCommJcwHaGge6': {'multiple_choice': ' stadium '}, '8xMtKKAZ5RHWjwMgCuYjWV': {'multiple_choice': ' Pizza Margarita '}, '92HRqF8nimMzat2iydhLAj': {'multiple_choice': ' skateboarding '}, '93rpK9LLNQ8xmAPrEGm3rv': {'multiple_choice': ' plastic '}, '99Ra8z27K9FLU2u5acKAqp': {'multiple_choice': ' bus, train, car,'}, '99VEZ5bvSGBLWtkpJiAAXg': {'multiple_choice': ' Love her hair color. '}, '9Fvp6un9Bh9va6z5nz9k74': {'multiple_choice': ' a city street. '}, '9HoQP5bpke2rstGjD8AG7Y': {'multiple_choice': ' trash compactor. '}, '9J5n2f4j4R4B9t3c6MPSi3': {'multiple_choice': ' broccoli '}, '9KA8dr22Hiveh2s9JwvPLZ': {'multiple_choice': ' knee '}, '9PGPr3vxBAb9jyWDiR9ous': {'multiple_choice': ' dell is the manufacturer.'}, '9PZxoQZCdEn8VijhqTfENe': {'multiple_choice': ' A fork. '}, '9R6ddmMNiye654hqqPZ2eE': {'multiple_choice': \" it's a fence. \"}, '9R9Ef5J6eaJzSHvUEkBkgq': {'multiple_choice': ' zebra '}, '9TJtRYnGa8xr8CF67M5Mof': {'multiple_choice': ' elephant '}, '9TbmZ3Qq4paDv4AUeXpLEm': {'multiple_choice': ' paint '}, '9VR7RNoJkVj6AWsYtwpDz7': {'multiple_choice': ' obese. '}, '9Vcrsyxf2zbSBauWavQbju': {'multiple_choice': ' left '}, '9WmbdtPjrRDvD7yeHYr55d': {'multiple_choice': ' zigzag '}, '9ZB4WcL9Sbo3L6ZPkaqzKY': {'multiple_choice': ' The man is drinking from a'}, '9agpK8NJBKhb2vcWiKXRi7': {'multiple_choice': ' yes, beer '}, '9d7StqUZPtRBbHjSDFwwqa': {'multiple_choice': ' Player 1 is in the front'}, '9fX9oZHdEtHPfWbHi4BhwA': {'multiple_choice': ' vodka '}, '9m5dBgT3PJrhWRCDg9ee2z': {'multiple_choice': ' taxi cab. '}, '9mBjXaxYD4jzJptHzwbeYW': {'multiple_choice': ' paper cup with painted plastic window'}, '9sqHw3RioVzmBGcxbMqBDM': {'multiple_choice': ' I can use a lot of'}, '9v2zVc4N5db5pVtYvrVEeD': {'multiple_choice': ' paper. '}, '9wkHkHDXGGtbJwvLAcXSVs': {'multiple_choice': ' dryer '}, '9zfgVSEG4hrKHfuoe4tHqx': {'multiple_choice': ' the couple standing in the boat'}, 'A2uU9gQWJp8Z3LJePdL9u8': {'multiple_choice': ' vietnamese. '}, 'A2yJNQmbyDNtQEq4b2EZWx': {'multiple_choice': ' horseback '}, 'A3zGJC9ryU4EkHzywEGdJn': {'multiple_choice': ' red coffee, juice, milk'}, 'A7MATFYMiNxpWLN7ucoWmS': {'multiple_choice': ' basement '}, 'A9Pk4Az2eRMuSEgB8GnUBU': {'multiple_choice': ' biography '}, 'ACMY4KCmBjXQNimvG4dJhA': {'multiple_choice': ' what is the woman wearing on'}, 'ADSaLsXSNftfMMYWMKKqCS': {'multiple_choice': ' under left, nowhere. '}, 'AGorRcu8xFxfMHzdj6nxuV': {'multiple_choice': ' rail '}, 'AHYLVWQ4whMVkWeDJiisi9': {'multiple_choice': ' On ground. '}, 'AJvjHZ5SF3hD6C3eYniXsc': {'multiple_choice': ' yes '}, 'ANKUidMb7wYYN6GuJ8eERw': {'multiple_choice': ' tarmac. '}, 'APKEVGn8hXAWmsWYxQQukD': {'multiple_choice': ' sun '}, 'AQQMsV5n7NGgths6DjtJcH': {'multiple_choice': ' how to build a fence '}, 'AR5jScMLqmYDjzmKHxKzMT': {'multiple_choice': ' birthday party '}, 'AScfHhLUR7uPGS4TV6VpbN': {'multiple_choice': ' to hit; to kill,'}, 'AXvcbZSCWScQ9hb4hjB4si': {'multiple_choice': ' spiderman '}, 'AYNy264QNVzJ6rgeCkW4SU': {'multiple_choice': \" he'll be diving for a\"}, 'AhrmUB8LFNXLkpiLGaaAuY': {'multiple_choice': \" he's making a choice to\"}, 'AiqztJZtJ4dNX7XYnu8rYU': {'multiple_choice': ' rooster, chicken, cow'}, 'Ar8D5FwKT47LcGDqJXXLjK': {'multiple_choice': ' sell them '}, 'AvSkehQk4bMedgX65PDsAj': {'multiple_choice': ' red board '}, 'AvkwREzm6e6NBB6ERwG4ws': {'multiple_choice': ' wimbledon '}, 'AyYa5v5HCXAjDeLXgP2CN5': {'multiple_choice': ' you can find a selection of'}, 'B725pHrrknZKDAqoLBjeof': {'multiple_choice': ' pineapple. '}, 'B89EaRFhsoHzAy55JKCZJJ': {'multiple_choice': ' 24 '}, 'B9XREx57Gw3BhJfjEg9yib': {'multiple_choice': ' tour bus '}, 'BECCJDkBDxrjtJNK7NGXQH': {'multiple_choice': ' lima bean '}, 'BJxwGHyivgHAjykCUoSUXo': {'multiple_choice': ' a roadside stand purchased from a'}, 'BNpoJaz9Qu7KQ87FoFfRab': {'multiple_choice': ' yes, they are. '}, 'BPPnGELjMEGtrmqgkrBt6V': {'multiple_choice': ' Book shelves.  '}, 'BQYQHxqKeExvS6GyHbBLjJ': {'multiple_choice': ' concert hall '}, 'BRxXgf2dHwtY3SuRcmvv8Q': {'multiple_choice': ' truck cab '}, 'BSZ9GqpZWjmXRxdbn5nTjf': {'multiple_choice': ' kite. '}, 'BSgG9C63esRw6W3Tw6rBbu': {'multiple_choice': ' skateboard '}, 'BUpdAEWaMUZK8AKRzy3vBQ': {'multiple_choice': ' no one. '}, 'BWmRhAFKF4KHK6QqPKS5Q3': {'multiple_choice': ' yes, no, yes,'}, 'BaNWccWHEXHgtdo2h5795T': {'multiple_choice': ' directional sign. '}, 'BhVeP3bxgcP5SjZLEfrm9y': {'multiple_choice': ' badminton, golf,'}, 'Bja27MQDKfkiPDd5iSER6Q': {'multiple_choice': ' missed. '}, 'Bp5VwMuky5fXJPzp54X6XE': {'multiple_choice': ' food truck '}, 'BpLgWvp3a7WEzrsmnpQBWT': {'multiple_choice': ' string, computer, battery,'}, 'Bq4zFDne6edPRs7sBBMEad': {'multiple_choice': ' mangos, apples, bananas'}, 'Bu9pF6sWajjGr6XDi4rb63': {'multiple_choice': ' yes. '}, 'BuWxzrpFRXqSj8UjZannxM': {'multiple_choice': ' no baby present '}, 'Bw5zPLf2EX7MjMakQbxdAV': {'multiple_choice': ' eating, watching tv, playing'}, 'BwNg9mG4uXsALtLg2ztFgz': {'multiple_choice': ' no leavening '}, 'C4iGaNrPm4zXWRgxL2XdRF': {'multiple_choice': ' Supper would be the meal'}, 'C5KFJtK2qiQ2gMC5WNsdnB': {'multiple_choice': ' people. '}, 'C9AXp35Pm8iw5MANqbWmyR': {'multiple_choice': ' game is a car. '}, 'CKSUnA8f2e4FZyu5pXFuhm': {'multiple_choice': ' three. '}, 'CKj2DmTDPa2HMKUvU9d6RN': {'multiple_choice': ' BMX. '}, 'CKoy38QkqTRSirL8yyeimY': {'multiple_choice': ' porcelain, wooden,'}, 'CMPt5xfqSyHQoFockxCWux': {'multiple_choice': ' because it is raining. '}, 'CQ7rcUkY5B9MZfB9yoU6ei': {'multiple_choice': ' underground '}, 'CRvFM9oRe3ELNUegmzDKHv': {'multiple_choice': ' yes '}, 'CTrTbwL2BtnQqY9vjiEiFF': {'multiple_choice': ' coke, beer, juice'}, 'CTzwocs3uGc2GjPFZG425g': {'multiple_choice': ' russia. '}, 'CVVWeSyTpmWdozRWra6qbu': {'multiple_choice': ' coastal, desert. '}, 'CYVZymNaQk6gd79AKNefqh': {'multiple_choice': ' up. '}, 'CZgeF3Cuso4bf9DbbmxZan': {'multiple_choice': ' lady. '}, 'CcD6HgxREVqanqLnSysBTr': {'multiple_choice': ' bland '}, 'Ce788SudmyHCPCCvyXs2kW': {'multiple_choice': ' taipei, osaka'}, 'ChoLNyVYCocjeYqDJQYMoe': {'multiple_choice': ' skateboarding '}, 'CjTrsVaGpA8tU9gav5uAkC': {'multiple_choice': ' peanut '}, 'Cr6fmmEARGDPSbQvpNN4xY': {'multiple_choice': ' The man is choosing between six'}, 'CrTrpTaqCFB2AYxne8FFyw': {'multiple_choice': ' car '}, 'CuqeFPuPUXRxjKnTomsz4x': {'multiple_choice': ' 31. '}, 'Cy5KPSnpjZdbRiQsbPug95': {'multiple_choice': ' barn. '}, 'D2nH9ADi8U2ATp3ryKnDvb': {'multiple_choice': ' posture '}, 'D5wkZcANAvQPLDQHLMV2TQ': {'multiple_choice': ' talking show. '}, 'D6DfPGuGowm35cTuQhvw4s': {'multiple_choice': ' horse '}, 'D6q9dXSUpTBgDkWi7e7dYS': {'multiple_choice': ' macaroons, ice cream'}, 'D7y9SSbRuVzVfJGiAinTx3': {'multiple_choice': ' yes '}, 'DAEcXR5DWNgEcEVRqA4xFS': {'multiple_choice': ' yes '}, 'DC3qACi5rhmWU8XzM5Vdvy': {'multiple_choice': ' black car. '}, 'DKLAWnnRuvz8p7UrHGzQzK': {'multiple_choice': ' airport. '}, 'DMGGczBdJRXHqZitoXSjSy': {'multiple_choice': ' to sit, to grind,'}, 'DNGTUpUeLqmbKUNNns3kZs': {'multiple_choice': ' 17 inch. '}, 'DPtUMrxDbLP2nQ9yUdmvkT': {'multiple_choice': ' no '}, 'DR94rYWve8KwpGjAtovqZt': {'multiple_choice': ' superman '}, 'DRLyePKKPxvXEDiKygRjjt': {'multiple_choice': ' little league. '}, 'DRjvqC85oQS6p6Q6fz6CdY': {'multiple_choice': ' Who is in the photo?'}, 'DTAw9Vu8CLWbzUAg6m8okx': {'multiple_choice': ' no one is there. '}, 'DX4bBD5XMPxQuu3hqWAdDW': {'multiple_choice': ' Talent, athleticism, personality and'}, 'DYEPfA4NaMDK8Dj5qW7AAE': {'multiple_choice': ' hallway. '}, 'DbQuf7wY2JtaK4aonapJXt': {'multiple_choice': ' playing basketball. '}, 'DbTAWKt7kZTzG8Xsa36K6R': {'multiple_choice': ' yes '}, 'DcKwtSxfdjTch9RvAuEpNH': {'multiple_choice': ' Tiny homes. '}, 'DhYoususnAa6GHBnV7UkZ7': {'multiple_choice': ' keyboard, phone, mouse,'}, 'DjXHKc7B4xBT6qMsDFXXjt': {'multiple_choice': ' candles '}, 'DpnK7HeBvBiVtVRCiDJxED': {'multiple_choice': ' yellow. '}, 'DwKTiqQxFH5Ei2cQGR3Y9U': {'multiple_choice': ' wok. '}, 'DxR6agStFKhyFqTSYRUgPa': {'multiple_choice': ' Urine tests positive. '}, 'Dy2TUremDDZAAQrkx5oPnB': {'multiple_choice': ' lamp '}, 'E2Vuut5upXHFFVxEk8kHvM': {'multiple_choice': ' yes '}, 'E6oDJ9maBhuvp2wvnBXfCH': {'multiple_choice': ' fork, knife, hands,'}, 'E6vGrKzLTzqabYt55Ksc2N': {'multiple_choice': ' no '}, 'E7LafAUEeJM9NiMjemXwRW': {'multiple_choice': ' zebra '}, 'E9JLQaGpyoZudcYaQCrzvA': {'multiple_choice': ' desk. '}, 'E9Tea7kyCg7eW4bPeT5W83': {'multiple_choice': ' yes. '}, 'EAHmczQURaep8SJkvhYCje': {'multiple_choice': \" I don't know. \"}, 'EAWGdocBoaqPxLQuJ3UJb6': {'multiple_choice': ' early summer. '}, 'EAYTJseBUauGLMkCTZdhtU': {'multiple_choice': ' Man and girl sitting on a'}, 'EBfqBBCf7yRtTtGhsc52Td': {'multiple_choice': ' polka dots '}, 'EDFzCznf6oQmdpV8T8S7vU': {'multiple_choice': ' 3. '}, 'EER9xudvx7aG37Zbaewxkw': {'multiple_choice': ' coca cola. '}, 'EF29EeN2WxPcuEMDavijXb': {'multiple_choice': ' train '}, 'EJ5nAfveNYp6rFYz46Dqkw': {'multiple_choice': ' Choices: racquet,'}, 'ETucTwACABQrgrZujBsiQq': {'multiple_choice': ' Backhand. '}, 'ETvPS6xXYPupruZTU3pf3F': {'multiple_choice': ' toll booth '}, 'EZr7FwVY2S7FggmHpHxCZK': {'multiple_choice': ' clay '}, 'EbanZVDGxGTAinaVAiseKZ': {'multiple_choice': ' More than what? '}, 'Ed662HvZeisV6Mzxs2S6bj': {'multiple_choice': ' cat bag. '}, 'EdDpJngBTrp6Bje83yQqDc': {'multiple_choice': ' To protect their skin from the'}, 'EgJwLz3i9LPpmSLpFLRjMM': {'multiple_choice': ' A hat. '}, 'EmU9DKov4EwRDaZuKvzAXj': {'multiple_choice': ' beer bottles. '}, 'EohV983PdD4udviqEUgU3D': {'multiple_choice': ' all four. '}, 'EpwwuobLzGLWhnbXAjbw2x': {'multiple_choice': \" I don't know. \"}, 'EsctZHEwzyvi6A7K55acJq': {'multiple_choice': ' luggage '}, 'EtRReER5fXmbnTmQTzM7Di': {'multiple_choice': ' store '}, 'EueF8ShbQJHpynE7TdNGRG': {'multiple_choice': ' A pair of socks. '}, 'EyxALxGEvCyePSado4wnJL': {'multiple_choice': ' mango, because the banana is'}, 'Eyzb8SKxYzzJuegL3tkwga': {'multiple_choice': ' cotton/linen '}, 'F3q8NaAw4x5Lc7KhdgvoDy': {'multiple_choice': ' newspaper '}, 'F5CqqWCtosWowj39Kchh9E': {'multiple_choice': ' stray dog '}, 'F92aSsSv7ZAtXnGBVREhqq': {'multiple_choice': ' dinner '}, 'FAgxg4yMBGCmnhc9FTTxyq': {'multiple_choice': ' The number of people with skate'}, 'FCACCnmERAWpKikUkfc5jV': {'multiple_choice': ' magenta '}, 'FCXFfhVqdfimMXqx3Vx8b5': {'multiple_choice': ' zebra '}, 'FDVQDJDFkV3tWkfTvrnAFy': {'multiple_choice': ' rain '}, 'FFhuFfMAy38Z7WWr6q7faA': {'multiple_choice': ' son '}, 'FFw7axjcwgXQxHygov52fm': {'multiple_choice': ' a red skateboard '}, 'FG6kmHCaikmwGGpw9RhpSD': {'multiple_choice': ' musician, sitting in chair.'}, 'FHmsKMqftMV2bbhT63TCep': {'multiple_choice': ' spoon '}, 'FHq2UjmQmmZbCvD4wDJwjH': {'multiple_choice': ' fashion '}, 'FNM9a4zAgBwoRawSUrMxPB': {'multiple_choice': ' Her hand is touching the umbrella'}, 'FQuJEPNnrznkjkvyN4UbUR': {'multiple_choice': ' police. '}, 'FWFywCJZaAGVJa2FAuwqyP': {'multiple_choice': ' polo. '}, 'FWokXQxyNdSctoKKriQTqh': {'multiple_choice': ' hail. '}, 'FWxu3Lu6FiTr37WCUXdKM9': {'multiple_choice': ' browse '}, 'Fah5Jtkg728bXGLKKjgwjV': {'multiple_choice': ' suv. '}, 'FddDsTHeVp9WJYZBjLoKUi': {'multiple_choice': ' road. '}, 'FeTsEoSpyGhqi8ui4i8tTy': {'multiple_choice': ' a billboard, a skyscraper'}, 'Fg53NYDDkdBe9AAbXNb5df': {'multiple_choice': ' bus '}, 'FpJmgAqdqfRjUe6axsFMhs': {'multiple_choice': ' fan '}, 'Fq7RXZuYTk7pKt4gf6Fvm4': {'multiple_choice': ' To celebrate achievement. '}, 'Fr2NzFhfutw8k7CpoAGnW8': {'multiple_choice': ' six '}, 'FrMujHaugfA8T2uMPEkckf': {'multiple_choice': ' aqueduct; B:'}, 'FtGwEGsss4Cqe38LrFBgj3': {'multiple_choice': ' store '}, 'Fu2ZLJDqhQqxBgT7KdAavf': {'multiple_choice': ' 2 '}, 'Fv2hy4qfFdd847B3xEcPz3': {'multiple_choice': ' outdoor scene. '}, 'G2yKVAzRGRB5RHtxxMsySP': {'multiple_choice': ' ceramic tile '}, 'G5UFNWEn9cZH66apuAaxQj': {'multiple_choice': ' there is only one door open'}, 'G7durJhNy8kAYScbWXjvyQ': {'multiple_choice': ' no horse '}, 'G9KXrAd6oRksj8Jqd5hcyo': {'multiple_choice': ' drop shot '}, 'GDYFtTMthQh2SHrVrKvynR': {'multiple_choice': ' person on a rope. '}, 'GDwYLbrCSgTVjTMSuJQFgX': {'multiple_choice': ' green '}, 'GGnMBYFpNz6ukDqFQ7Cdgx': {'multiple_choice': ' cross. '}, 'GRTvSEaPgGtjRGvoED7S5E': {'multiple_choice': ' Microwave. '}, 'GTZGtuDSqd76CSi8NDrEKx': {'multiple_choice': ' mountain '}, 'GYERWEzeTRB8TqAZXguSbG': {'multiple_choice': ' A life vest. '}, 'GaMNX53oAdZUoytgminHKh': {'multiple_choice': ' yellow jacket. '}, 'Gd2FCTGcKM4yuJrprWpsyp': {'multiple_choice': ' cement building. '}, 'GfXMvDmY2rQYcnA8kLrFvf': {'multiple_choice': ' sneakers '}, 'GhbDi6TH7F8tykDJvovapH': {'multiple_choice': ' aswarm. '}, 'GhbJVpKaUP7PmgNUiwq2VA': {'multiple_choice': ' purple, yellow, red,'}, 'GkrGRjhVED6WinovPED8iZ': {'multiple_choice': ' yes '}, 'GkxEs3oBggLe4zY9XmJZaA': {'multiple_choice': ' eleven, nine, eight,'}, 'GoBun4WYj2oK6vRihjfEGv': {'multiple_choice': ' soda, beer, red wine'}, 'Gr2guph9meudkWEM6Gbpwr': {'multiple_choice': ' no energy used to cook turkey'}, 'GrkdG8hexJX5weRDGtgQNj': {'multiple_choice': ' oil tanker '}, 'GuEXoRNmgAED6SJqUXtHhA': {'multiple_choice': ' no animals in field. '}, 'GzEbcQExF4cHmrhk7rdnce': {'multiple_choice': ' playstation 4 '}, 'GzwDohFGAzDgkHBGFKfCTF': {'multiple_choice': ' arrow key, print key,'}, 'GzzLtA4SHJS9ymFa6Zrw77': {'multiple_choice': ' backhand. '}, 'H4vJVSnFkLQaJVgHbJSVob': {'multiple_choice': ' to repair '}, 'H5BWeWuYriU6bmUwUPKtGE': {'multiple_choice': ' paper, steel, plastic,'}, 'H5ij2UADeZudHffAeLzw6z': {'multiple_choice': ' microsoft. '}, 'H6NnKaLeBganALK78FdQq7': {'multiple_choice': ' It looks like the german'}, 'H7Pz5njX8cDqfXoLU546ym': {'multiple_choice': ' Los angeles. '}, 'H7QnkgRHJJYQpjyyG3Szfc': {'multiple_choice': ' Chain. '}, 'H84RC5rtsFPxCmNS27jbHf': {'multiple_choice': ' from computer.\\nA:'}, 'H8KBdToKYoc2D9GPVE6mds': {'multiple_choice': ' Baseball cap. '}, 'H8bbnrXJwvzCPyGsK48h8c': {'multiple_choice': ' in front of a table.'}, 'HBocRDMRkRehHhDX4BnCwq': {'multiple_choice': ' tennis shoes. '}, 'HGUuQneRyMcmypY3dX7XUi': {'multiple_choice': ' celery sticks '}, 'HJeQNjpkTJrL7EnPntSa4w': {'multiple_choice': ' analog. '}, 'HJh9bXtpMyBNmsmBa6CH4p': {'multiple_choice': ' 2. '}, 'HJsZ5ZgnFUZ4Sik8UzeCYY': {'multiple_choice': ' left '}, 'HM4obw9fQyb3aPheZjgtqq': {'multiple_choice': ' yes '}, 'HMuwvp694v2XuNGWtSht8h': {'multiple_choice': ' six. '}, 'HPZPYitwJBDrLAkkGa9AJ5': {'multiple_choice': ' nike love the red sneakers'}, 'HRRChNRZfHh9JRVSVaZvt7': {'multiple_choice': ' refrigerator. '}, 'HVw3M6ynyrfGd6UNNGLDyS': {'multiple_choice': \" batter's box, catcher's\"}, 'HdyKrZXRwibeYWRs8Qnkhe': {'multiple_choice': ' lettuce '}, 'HmwKHh89ZFtLUWCExGKoLw': {'multiple_choice': ' goodbye. '}, 'Hnor848pYZFWrEeYWfuYCF': {'multiple_choice': ' donut. '}, 'HtgRjokZ8ucLVCRGLEKkFS': {'multiple_choice': ' woman is sitting on a chair'}, 'HvqzXR3y2V29n55RRarBQA': {'multiple_choice': ' To protect the hitter from a'}, 'J4WUAZW5eUveUgDRSq3r7y': {'multiple_choice': ' four. '}, 'J6Kwvdi26GWFDHeADMXSWW': {'multiple_choice': ' Fan. '}, 'JCLA7VcpiUFhSr4WfS22EA': {'multiple_choice': ' daytime '}, 'JG6LR7gqcbcDvbrwYiZbnj': {'multiple_choice': ' The man is exercising. '}, 'JGXXqdncT4kgE87XSYDEH8': {'multiple_choice': ' school. '}, 'JJPVhVK8EvZNsddZMETh6v': {'multiple_choice': ' no '}, 'JJmTumn8HhCZdb6sNWftWr': {'multiple_choice': ' red. '}, 'JK2iuDmUfAfGyyNaUnWZgK': {'multiple_choice': ' f/1.4 '}, 'JKfRNnyDQBfsZrkokU8uQa': {'multiple_choice': ' rail. '}, 'JLeJRnVgCAQDSxhnN2LLGU': {'multiple_choice': ' donut. '}, 'JR77UNbyj38mU3p6Ku6Qn8': {'multiple_choice': ' broccoli '}, 'JTLLmy2W6V6VETwzhkgDPh': {'multiple_choice': ' So many choices to make.'}, 'JTUjHvTpxRzo2TtJWiCzUy': {'multiple_choice': ' Dog pulls sleigh. '}, 'JTpPkML3VmfSm8yQwMycuL': {'multiple_choice': ' actor and person with a life'}, 'JUxJmYmJuhcFMBwKdHRTj9': {'multiple_choice': ' modern usa '}, 'JYWg9aVznMs3k9DbgYYj5a': {'multiple_choice': ' school '}, 'Jd5ZtcGspbFr8SHETgpt53': {'multiple_choice': ' round '}, 'Jo6cB9daaqeW3nwSc3Sv6E': {'multiple_choice': ' elephant. '}, 'JrdpzYcvRc7YKAyviTTEWv': {'multiple_choice': ' jumper, jockey, rider'}, 'JuxtrucqNyPwRLsANkhiRw': {'multiple_choice': ' gourmet. '}, 'JwnCRZQToshydgQiSHz6Qk': {'multiple_choice': ' The fireplace. '}, 'JzruB6ybwPgmhZ5euNweVS': {'multiple_choice': ' cellular '}, 'K4hCLffyy8Lq3xuDXr4Tue': {'multiple_choice': ' politician '}, 'K7FEvSfPCq94Y7Uzwvju4J': {'multiple_choice': ' dunkin coffee. '}, 'K7TG3WAZ6ViJaprGP2QFb3': {'multiple_choice': ' phone charger '}, 'K9gu6pYzJwwNr2JdCnrRyW': {'multiple_choice': ' kiwi, watermelon'}, 'KA3cQWXpQhyGmzPKC9d7jv': {'multiple_choice': ' target practice, playing baseball.'}, 'KADU4VuTNvJcaxfcuSWg5s': {'multiple_choice': ' ipad '}, 'KDt9uiMSWXdfqZg8DkfQYP': {'multiple_choice': ' what is this room for?'}, 'KFfvmbMFji4jPLYSa72ghN': {'multiple_choice': ' major '}, 'KHUiovaE2ZgBkwbt2ADbaN': {'multiple_choice': ' sadness '}, 'KJfQQQhNGQydZ2gdW6dv9A': {'multiple_choice': ' salami '}, 'KMYPv55YgBCMho3xHBu4GM': {'multiple_choice': ' united states. '}, 'KSBuivjEvKXo6nskDiHPRK': {'multiple_choice': ' All the choices are red.'}, 'KUFqsDY7LxQj86DWy5PV33': {'multiple_choice': ' summer. '}, 'KULnaCXEwqsqxdegDzQRjT': {'multiple_choice': ' four. '}, 'KVAeyTAfrvN8fst6NXA6MT': {'multiple_choice': ' crust, sauce, mushroom.'}, 'KYHbG5z9mj4H4dAJbzLuQ4': {'multiple_choice': ' a onesie. '}, 'KatNcK2tJQ8nr2oasRaXoD': {'multiple_choice': ' apologize. '}, 'KeFdNUyaJPmnR7xeSiPs2u': {'multiple_choice': ' Eggs. '}, 'Kg2epvxdD43djHjdN3HBEw': {'multiple_choice': ' west washington, intercontinental'}, 'KgfkfPqD2aDFJjnZh69oyM': {'multiple_choice': ' butt/tail '}, 'KpXGPyoqZUqo76FaqZuNXF': {'multiple_choice': ' home '}, 'KqEeneEUHVnoFj9nRYLS3u': {'multiple_choice': ' yellow and black '}, 'KqHt4U8oRbES85WARzxU3R': {'multiple_choice': ' Africa. '}, 'KtndapoEif4gqUGbYMKim6': {'multiple_choice': ' hockey, football, baseball,'}, 'KwuvnUibgJ9zWpif3UzUtJ': {'multiple_choice': ' chair '}, 'KxDzK3TmVjHrd7PVRGf6AP': {'multiple_choice': ' show off '}, 'L6och7f34xfLQaVYszfzV7': {'multiple_choice': ' pepperoni, cheese, and'}, 'LFz5f9J9ZvERUNtuXm7UJg': {'multiple_choice': ' A big service boat with a'}, 'LGdv7ZFDA5bxdGaYw5XSLZ': {'multiple_choice': ' camouflage '}, 'LHVciAWegjMeYHxTjEpTPc': {'multiple_choice': ' no choice. '}, 'LHeFhpiVsUvAjwDNWJQPfZ': {'multiple_choice': ' Orange. '}, 'LHmjT6smJB8ZerDLp4DJuy': {'multiple_choice': ' yes '}, 'LJ4sDDbqD2hawGCiejEBpQ': {'multiple_choice': ' Chairlift. '}, 'LNUVUyUrSmACQeFCKtKq6U': {'multiple_choice': ' wax '}, 'LWHhV7yq9EbPQXgaXmYEXk': {'multiple_choice': ' 2:00. '}, 'LYvkz5jUWHpZYkZ8VhxESf': {'multiple_choice': ' to look at this, to'}, 'LaVtN4tgwqXPxzoGfKPQjg': {'multiple_choice': ' carrot\\nB: orange '}, 'LduCAeBABsAgiTkxMrytDf': {'multiple_choice': ' lime juice, olive oil,'}, 'LjrjS6vsP3xXwot5D9eFiD': {'multiple_choice': ' surfing '}, 'LnBiYuXmqeyEHsquVemheo': {'multiple_choice': ' play with cups '}, 'LpbiGZE3yGNeqQXPc8cB7v': {'multiple_choice': ' post-its '}, 'LqCNzoPHep3XKouS3eUAk6': {'multiple_choice': ' window, flat screen, web'}, 'LqQSkRfPRjbWBwDicmVt5h': {'multiple_choice': ' clean '}, 'LygyAJXhmSDTBfc6cAtztt': {'multiple_choice': ' bike. '}, 'M24oDREQRXZxbPHeX82hTm': {'multiple_choice': ' The dog is not available.'}, 'M3UwocoRkLnvoEsrqhUrRZ': {'multiple_choice': ' motorbike. '}, 'M3yABkFk8uMPsVkecGAnZR': {'multiple_choice': ' brush, stir, flip,'}, 'M46zwhVtTDuYcfKTvw5Bsk': {'multiple_choice': ' yes '}, 'M4bEQ9vKhFhuWXb9nEf76d': {'multiple_choice': ' woman is playing with a bow'}, 'M7GYpdBrUzhDxznbhPebAi': {'multiple_choice': ' michelob ultra '}, 'MAH3KC3SWvoTum6Ja75hB3': {'multiple_choice': ' Six '}, 'MAPPrc68FM8HwQsJHE6W2q': {'multiple_choice': ' race, great, goal.'}, 'MDyjdP8Esi9N3eEpLVuwx7': {'multiple_choice': ' No. '}, 'MFcz9WFowTCRnWEpVdEfiJ': {'multiple_choice': ' yes. '}, 'MLS7svNqmdHua7qB2dvKuq': {'multiple_choice': ' wimbledon '}, 'MMgmqJzM4kBYppdQX5f3gL': {'multiple_choice': ' United States. '}, 'MNd63HUuxoKR7oBz6d3zA5': {'multiple_choice': ' purse '}, 'MRauFRDpB55J3mf5RKCbJH': {'multiple_choice': ' brushing teeth, washing hands,'}, 'MWDJi7QGHxkNj2dWNnzE6S': {'multiple_choice': ' Was. '}, 'MXNuoDzTufsnkH3TEQS9P3': {'multiple_choice': ' Why are the kids wearing hats'}, 'MYWA3eAGfavXR4ehMz22fV': {'multiple_choice': ' yes '}, 'MajM5Byv84DD34XWtgDTEu': {'multiple_choice': ' stray and a mix of b'}, 'MdawSWWcrGZdyq4yMLZRMN': {'multiple_choice': ' The floor? '}, 'MdpQEymVqNWnxqPPxPXxvs': {'multiple_choice': ' b, i '}, 'MgGUyCE42FnnjzSi8wqRBt': {'multiple_choice': ' 21. '}, 'MgwZ9gzpwfp2xz2oGjemMc': {'multiple_choice': ' camera lens. '}, 'MiavLRSwBYJp9ooFkFHjv6': {'multiple_choice': ' pregnant women, kids, meat'}, 'Mj2xTvTMWmPfD2AvR3cDQw': {'multiple_choice': ' zebra: a zebra'}, 'MrMKrCttovt9tvMyUYZytj': {'multiple_choice': ' Concentric Airlines. '}, 'MtpJjmnfFfb8pD3fpbvCTq': {'multiple_choice': ' Home. '}, 'MuwkW3j4kYfEZXwWuicLjv': {'multiple_choice': ' topping '}, 'MvjdGpXqcdaADbsGwjo2Bm': {'multiple_choice': ' snowboarder wearing red coat'}, 'N7m8txH8f6upMQuW8Ek8p8': {'multiple_choice': ' cowboy boots. '}, 'NDUEeMTroLKXs44BF3Z56m': {'multiple_choice': ' soda, coffee '}, 'NFMXerxQWMSQACyqHarJre': {'multiple_choice': ' My friend is holding a flashlight'}, 'NFgfC2sJF3DkFgY58TDpfy': {'multiple_choice': ' serve '}, 'NFhBeZhrxD3NQADiCfwi92': {'multiple_choice': ' fanta. '}, 'NMaWJvLKEHntrF2zNxigMq': {'multiple_choice': ' To learn to choose which of'}, 'NQQEM9mH6viipfoP9kMC6v': {'multiple_choice': ' maybe a bunch of people.'}, 'NYcTJoQKwAGgyi4FB5gAt8': {'multiple_choice': ' gun violence '}, 'NaxFfMbXiDnFeK2TDQpBpL': {'multiple_choice': ' private enterprise '}, 'NkV76CMuvfSYK7MyjLeTKV': {'multiple_choice': ' accelerate - accelerate to win '}, 'NmKj6PbaycvbudUKgRzibs': {'multiple_choice': ' store '}, 'NqPZVF9F8iZ7nXWPUhFTXM': {'multiple_choice': ' carrot '}, 'NsLGudV3NNLiYhGjCqbw78': {'multiple_choice': \" Men don't see women as\"}, 'NtLrgnLvk747vSc3scsUHn': {'multiple_choice': ' undercover policeman and person. '}, 'NvwixocPuSU8e4uyGqdY9X': {'multiple_choice': ' shower, sink, and bath'}, 'NxB3LACrQbQmimYNePAYyK': {'multiple_choice': ' or maybe play with a dog'}, 'NzFEWXcTYWqgrRXUnqVK6h': {'multiple_choice': ' The \"bow\" is on'}, 'P4cavrtzjFu5Ur3DCjn6YK': {'multiple_choice': ' purify water, generate electricity'}, 'P4kW6QHjRQjrDBY2YdCNxg': {'multiple_choice': ' yes '}, 'P6oCrLWLEpt8yyJ6x9AbAd': {'multiple_choice': ' cologne '}, 'P849UYcdPdpuMhsTCbyCuu': {'multiple_choice': ' vollies, jimm'}, 'P8dF9URdgyA2NX7Na7Cc2K': {'multiple_choice': ' bowl '}, 'PB2RjD5RMSqbGxT9c2cAwU': {'multiple_choice': ' cargo '}, 'PBPtqNj8ChAWcqKW5qxQvR': {'multiple_choice': ' rectangle.\\nB: sphere'}, 'PCGypGVa3Wc6gUBSHQVWmR': {'multiple_choice': ' 1399 '}, 'PCU3paJyftQe8M3s4T6ZVd': {'multiple_choice': ' no '}, 'PCavtGPpEZnoW3vRUb2vbM': {'multiple_choice': ' Smoking is prohibited indoors. '}, 'PGrM6kp6herk4ducZoyUUd': {'multiple_choice': ' broccoli '}, 'PPFTmUK9jTLmCYzJ8UK7Bf': {'multiple_choice': ' The apartment. '}, 'PPGK4QYUUdYhLhBKKfPCp3': {'multiple_choice': ' sculpture '}, 'PPGegcRPeAJZ58gfYTUAZH': {'multiple_choice': ' deli, farm, roadside'}, 'PR3YdLbDHdwHNJENygZqBa': {'multiple_choice': ' no choice '}, 'PSBwpAo47YDwimGuqy75Pm': {'multiple_choice': ' Cake '}, 'PSyBiDyNfASh3NPty6sGVq': {'multiple_choice': ' to pray, to dance,'}, 'PXXkdGKz45qtjq76Scf9Hj': {'multiple_choice': ' zoo. '}, 'PZuvxsHTeR4DzXQN7DQR59': {'multiple_choice': ' bug shield, style, sun'}, 'PazMPafpzhf5zWhAzzfKG9': {'multiple_choice': ' no. '}, 'PbFfJju4rM4x4PzP9E3dmq': {'multiple_choice': ' barman '}, 'PcWKJUYhqCiRRsF9ecidXy': {'multiple_choice': ' wood '}, 'PceZftPFbFZ7xbF3urpTvL': {'multiple_choice': ' yes, no. '}, 'Pgr2EjnVJiyNjUnPs2qgkg': {'multiple_choice': ' The screen is white. '}, 'PhDYZ98CbMyiiLytoTmBh6': {'multiple_choice': ' freeze '}, 'PmWMsFgyX6apXWit2Z87aj': {'multiple_choice': ' yes '}, 'PrbWUDZrELd3nWMbQ72MSD': {'multiple_choice': ' tennis racket '}, 'PvkdPe2rHmCnyKrzoFjrgy': {'multiple_choice': ' yes. '}, 'Px66AnBiMseHFPF94hYP93': {'multiple_choice': ' ken '}, 'Q5hfYjQnaxng9vg7QmEqa5': {'multiple_choice': ' A boy and a girl.'}, 'Q6BuYZYZySn9YZXf8iBwXD': {'multiple_choice': ' 2, 7, 3,'}, 'Q7cdndwDheQypkx5d6WvbN': {'multiple_choice': ' doctor '}, 'Q8qrsK2VxVXdM3LRKyhi5U': {'multiple_choice': ' coach '}, 'QBfzUChLwDv8fW2akWWDxP': {'multiple_choice': ' dog '}, 'QJvRFzyGr6FEDrTqLohf7D': {'multiple_choice': ' parking meters '}, 'QKSFmfG3S2PeXAuucEHUam': {'multiple_choice': ' hong kong '}, 'QMRwRh6Gcy2qkWbZajGUru': {'multiple_choice': ' asphalt. '}, 'QU5GGV7TZU2xWvdPz946Ka': {'multiple_choice': ' bus '}, 'QWLm7RxL6afwhBVm2WiMV7': {'multiple_choice': ' bow tie. '}, 'QWSFPjnNokcHAt3aUzZCTT': {'multiple_choice': ' no '}, 'QXpLwCmcjZXSBHQULTdAXu': {'multiple_choice': ' flame, sprinkles, candles'}, 'QaL6hj3FGdpRMLEAiN6aFY': {'multiple_choice': ' to dance. '}, 'QaNQeaARotkH69bbZmrpuA': {'multiple_choice': ' bamboo '}, 'QgbaJEnafjdsdWx5ReQAPn': {'multiple_choice': ' electricity '}, 'QjpYU2U32pH2dPpPoDEreR': {'multiple_choice': ' yacht '}, 'Qn9fw2mFC5bWG7CjQvir9s': {'multiple_choice': ' no '}, 'Qpu4P46aupMV73vp2wmEGk': {'multiple_choice': ' Barber. '}, 'Qqu6VC6u393vD5MFN4nLKC': {'multiple_choice': ' Cake '}, 'Qs2pN4dnREpNWB3Faxrwfy': {'multiple_choice': ' vanity '}, 'QsW8sBQzRc4Zsxds7WwTJ7': {'multiple_choice': ' The day of the picture.'}, 'Qv49BJttrdU8moobFFSe58': {'multiple_choice': ' the horse is trying to clear'}, 'R5zKF5LPj53tXkChG4Mq7M': {'multiple_choice': ' car. '}, 'R6NkFiXvj9TEor6T66JJmM': {'multiple_choice': ' teacher/student. '}, 'R9V95LVNMqbNuxcHhqktUJ': {'multiple_choice': ' monopoly. '}, 'RBwzjVcACZNAqMHpPZbv4i': {'multiple_choice': ' for drainage, the tiles on'}, 'RE7AjTGi4wSmoqR4QYLrjB': {'multiple_choice': ' ferret. '}, 'RFLRY32jbKYv8NBsmVtX7x': {'multiple_choice': ' heat. '}, 'RFYFh4DWWiKWEQZW6uR4Uh': {'multiple_choice': ' coach '}, 'RHuE3kjsrxziVFTSuHGQTD': {'multiple_choice': ' bear. '}, 'ReDe96f2774vpupY23aBCH': {'multiple_choice': ' stockton '}, 'ReR5LFFQDGRsrWasGqvdx4': {'multiple_choice': ' handicap '}, 'RhZ5i6awC44Si9nVyCzBst': {'multiple_choice': ' eating it '}, 'RktS7Pmjx4EvyCUjQB5TSr': {'multiple_choice': ' magazine '}, 'Rpy3Dcuk4GLi5NsNq5Xzgt': {'multiple_choice': ' minus, period, exclamation'}, 'RrQ48CMWPTgqsvg2K4P7eR': {'multiple_choice': ' crouch\\nB: lie'}, 'RsfWYWW4vEUkb5XCQHUKTX': {'multiple_choice': ' boat '}, 'Rsx7xekwpsg4ZCDwoMoePn': {'multiple_choice': ' kimberly elise'}, 'RwYJaSgNVemMYsSkVVKnxu': {'multiple_choice': ' A sugar-free red velvet'}, 'RwpxKDcMF2E4fdhCjCJNEN': {'multiple_choice': ' dress, play, drink,'}, 'RxPKF64GYxeyCLiP32aKf5': {'multiple_choice': ' wisconsin. '}, 'RxjgZeBYRVwq53iUfWx6pU': {'multiple_choice': ' put dish in oven '}, 'S2UN3nzSfNpeyBMH2GUyCk': {'multiple_choice': ' outdoors '}, 'S5T6eMemksb6hVpMnB8hYf': {'multiple_choice': ' beach '}, 'S7PYnsJCcBfWFtnzXnAayU': {'multiple_choice': ' juggle '}, 'SA8eYDyzQYZXZRykahrGmf': {'multiple_choice': ' left hand. '}, 'SDfSmLAeRRq77jeB3mdieQ': {'multiple_choice': ' blanket, newspapers, sleeping bag'}, 'SGt3LAcTjvTtjzjBAtJsCd': {'multiple_choice': ' upper-right and bottom-'}, 'Sd9FAqZwhabNaWzRUftozo': {'multiple_choice': ' My first thought: a relationship'}, 'SdAdWFmnnNenYAp5iLkkSM': {'multiple_choice': ' eat '}, 'Se8YypiBrjwXhwCmjyDjtK': {'multiple_choice': ' zebra. '}, 'SgSpH9dKik4F3kZ9pu2EbH': {'multiple_choice': ' ice cream '}, 'SgqV4mnErEwU75PNQtwqpo': {'multiple_choice': ' building. '}, 'Sk8wJePwpdzCXP4WzjbGdu': {'multiple_choice': ' Pretend to be stuffed animals'}, 'SmTPg7HCekgNrHgwnvvYFm': {'multiple_choice': ' nine. '}, 'SoTQafEnfUD2Y8PJj7uSH5': {'multiple_choice': ' record player '}, 'SpnBQjkqymWyZ5gEzPTwKu': {'multiple_choice': ' cow '}, 'SsQakUmPuH7a7w6tvHfNjc': {'multiple_choice': ' desk '}, 'Su4RjX7NpuDbXwjPMBxq9g': {'multiple_choice': ' car, train, bus,'}, 'SvWosPQqsqcUBDy2Jzg4hr': {'multiple_choice': ' for protection. '}, 'Svs8fentMLQ8L3ApAisjeQ': {'multiple_choice': ' dairy '}, 'Swg6UuWx3sV6rx6mLKYwZz': {'multiple_choice': ' the blue and white item.'}, 'SwkgX6iwJ3do4mFyGFad4H': {'multiple_choice': ' Silverware. '}, 'T4VcxwB778ZJZ8ggDRcct6': {'multiple_choice': ' bridge. '}, 'T8Mak9BHbJd5WqH2jhjBZo': {'multiple_choice': ' preston '}, 'T9KmhNREm5oz68KpHDp4jR': {'multiple_choice': ' If you look at this picture'}, 'TAKCfAy3yDzuEtuq994hdn': {'multiple_choice': ' Man in white shirt. '}, 'TAwFJVcYrztESePxFhSyAt': {'multiple_choice': ' ball. '}, 'TCXSs2iG5qmduZYmRir2cK': {'multiple_choice': ' salt '}, 'TP6CLZw55zqvf7ysJUnG2B': {'multiple_choice': ' the man is shouting at the'}, 'TU3Jt6U4vLxsHp26fpMWW8': {'multiple_choice': ' poster board. '}, 'TWyAuHgJjHojJL8osH3VPw': {'multiple_choice': ' display only '}, 'Tbna5Srgt6Jbg8hgADabX7': {'multiple_choice': ' red, yellow, green,'}, 'TgSTm8wMoywwfop8P7MVSd': {'multiple_choice': ' fall '}, 'TgnxoGn2URnSnsnWhniwQ9': {'multiple_choice': ' dogs '}, 'TiHYTuQWNZA5Ui4kwswtvh': {'multiple_choice': ' red, black, white.'}, 'TifwtbdMUHyamphGv5h8ke': {'multiple_choice': ' the top of the bus.'}, 'TnkZofftZctoj8bFNzg2kH': {'multiple_choice': ' boston, ma '}, 'TorF8s9TxEizB8N2ETkwc7': {'multiple_choice': ' This is a screen capture from'}, 'TsqMjNDdEXguXzN7puUbW5': {'multiple_choice': ' titanium, plastic, aluminum.'}, 'U3vN2kLcHwnX4WfdNGnvxW': {'multiple_choice': ' swamp. '}, 'U5Z3AUf3R9VcDqTFDLGt2c': {'multiple_choice': ' asia. '}, 'UCbMvJEQ5bXNnFJMtybA48': {'multiple_choice': ' computer '}, 'UDeVUh2hQdtougjwZfSviW': {'multiple_choice': ' 1220 '}, 'ULATNnxK9NEPMyLLPjSbDs': {'multiple_choice': ' Japanese. '}, 'ULSq2sLPjbuZY3B2Z6mYjb': {'multiple_choice': ' The bearded man is wearing a'}, 'UPhByDxcyegyWfhgbrkTZD': {'multiple_choice': ' A cell phone. '}, 'UQENBDxmJ3GjGcukhY4Pz6': {'multiple_choice': ' cat. '}, 'US64WDYHmJ3UBhFuwDmcWM': {'multiple_choice': ' mail truck. '}, 'UUjWA8SQGxcai53mEXndiA': {'multiple_choice': ' churning water with white bubbles'}, 'UVVFCjjDrqyaKa34tF54pS': {'multiple_choice': ' bathroom. '}, 'UXBfDe6BkYdbApxVPSdmVo': {'multiple_choice': ' not a standard food. '}, 'UXR5X7hqtMs7BPFyniqscB': {'multiple_choice': ' snow boarding, ice fishing.'}, 'UYMVq2rDCFNVv8gsP6dhdH': {'multiple_choice': ' 2 '}, 'UYqcgLGSbQXzeDLUj6rZej': {'multiple_choice': ' bone '}, 'UcdDMTu4br8uyQPYPQxgo6': {'multiple_choice': ' south america '}, 'UcsK83RofE8rYDQoLmWhwK': {'multiple_choice': ' A car wash. '}, 'UdzPZ8vzkJg3Bp2pMQP5f2': {'multiple_choice': ' rabbit. '}, 'UkRTVsdAmDo7qV28T2qKzs': {'multiple_choice': ' camping '}, 'UkgASD3jXFSiGpwBf8Nf5y': {'multiple_choice': \" no, it's not true\"}, 'UpTNoSajrD27GvfoAdVnsC': {'multiple_choice': ' four. '}, 'UrWnWqFNL2XNxWBvkt3nLp': {'multiple_choice': ' goal '}, 'UuYwpccc3LhURGU3XWuW7i': {'multiple_choice': ' kitchen, closet, doorway,'}, 'Uv8wsVRaJmguTknDUJBCXS': {'multiple_choice': ' hawks. '}, 'V4VjJ3eNtgQnM7ZvF2S3iL': {'multiple_choice': ' Grandmother. '}, 'V7eH795GEYSJkaUNCkCp7A': {'multiple_choice': ' drinking coffee and playing with marsh'}, 'VAgkuyL7FuecBgmyumQ6oh': {'multiple_choice': ' at the beach. '}, 'VDb8JjxzQRA5pssoPHup4M': {'multiple_choice': ' fun '}, 'VEYdFufFnzaDwFg4HBBcYY': {'multiple_choice': ' standing '}, 'VF8AXcb7aXEHcTu4ZWtQf6': {'multiple_choice': ' in a restaurant. '}, 'VJ43YwLMKZXTSbGAg9waNa': {'multiple_choice': ' red wine '}, 'VJLpcbF24BNNeHBGBKQp8K': {'multiple_choice': ' going down a hill. '}, 'VK6PNbyq9nq3XXBfdyE6P8': {'multiple_choice': ' banner. '}, 'VKDkZzDN4KTFxGbh2KrgSf': {'multiple_choice': ' Japanese people eat meat. '}, 'VPtWDzT5r9wYAo4xWxHy97': {'multiple_choice': ' goofy '}, 'VSvCeQz6PNuzX6hYisMLe4': {'multiple_choice': ' sitting. '}, 'VTaZmd6DdBAihiinbqNMqk': {'multiple_choice': ' 3. '}, 'VWfKcAKJSwowZ7bGBCTpc6': {'multiple_choice': ' nobody '}, 'VXA5FfMXfSByVYECxCwcR2': {'multiple_choice': ' as with most of the food'}, 'VZPbBERyU2LCkuew7SrWaw': {'multiple_choice': ' The giraffe lives 50 years'}, 'VZg6oeEVpweNk9fihBXS8m': {'multiple_choice': ' swirl '}, 'Va5KLsXWHujm6DtfGdHssS': {'multiple_choice': ' morning. '}, 'Vaycw3C7ENGUZ9YnzCz5TU': {'multiple_choice': ' The icing is for the food'}, 'VcdLhhv7e9gDP4aHuFPomY': {'multiple_choice': ' yes, have to '}, 'VdepsSMSGD3FJyBybbLsFD': {'multiple_choice': ' independence day cake '}, 'VdwJzCL5W2Sfytj5sRWhvV': {'multiple_choice': ' eating and smiling. '}, 'VeQ4KEc2qHLZTXoPaHX4sy': {'multiple_choice': ' a large flat screen TV.'}, 'VfFoJ6PWrs7H65Tw6eP9PS': {'multiple_choice': ' trackpad '}, 'VgxPdtgxpLKqHGCvaCyHcC': {'multiple_choice': ' truck '}, 'VnvcXjkeZTbMsRfQZwQXUF': {'multiple_choice': ' sleeping '}, 'VnzsUW53NRP8HWxzudb4wB': {'multiple_choice': ' sedan '}, 'VohghyPSQCmFdnNQD2FntC': {'multiple_choice': ' road '}, 'VsmuTZR6c3jEmk2x73KvRf': {'multiple_choice': ' volleyball. '}, 'W3BhSzei6UhVZbxEqQYt5Y': {'multiple_choice': ' van. '}, 'W45wAtdznJWCkxES23Ymmb': {'multiple_choice': ' ketchup '}, 'W5p2HmLoUaWjYqMkHyhK8Q': {'multiple_choice': ' shortstop, left field, center'}, 'W7NENqwhQdUFDHrkxS2Ch6': {'multiple_choice': ' snow '}, 'W9SuEnjPaJ2SReannrgG2Y': {'multiple_choice': ' no sheep are around '}, 'W9gwHYkWiZQ9fTUbF6rJUt': {'multiple_choice': ' france, australia'}, 'WBdKcgLeFsoBqW8cqnzsLe': {'multiple_choice': ' ice donut. '}, 'WC8XQmunFHgUyN44J9vNQu': {'multiple_choice': ' road. '}, 'WCss8XpjKYENCSuFCSKUz8': {'multiple_choice': ' green '}, 'WHkq5C8BiaowwnmsHGAxgf': {'multiple_choice': ' yes, broccoli, cheese,'}, 'WLG7VBozfPSsZPwKjaUXYy': {'multiple_choice': ' The two men are wearing bud'}, 'WRniXpa5KWfR7D85cwFASi': {'multiple_choice': ' playstation 4, xbox'}, 'WT3fLQWr4Wnj9LaQJ68rri': {'multiple_choice': ' Lambermont Park. '}, 'WTHtfRH2Df4wkMEyR93oQy': {'multiple_choice': ' North america. '}, 'WZt7xFyvPGqx93xZmhCFb7': {'multiple_choice': ' police '}, 'WapXzWUgE3zgx5n3fVGUjS': {'multiple_choice': ' scissors, pen & hole punch'}, 'WdswpNeyj4t9nbTqRVKKT9': {'multiple_choice': ' brûlée '}, 'WgS2856ezvnQAZMmfrUitJ': {'multiple_choice': ' mud. '}, 'WhPka9j3UV3XKdiqHbupMJ': {'multiple_choice': ' left elephant '}, 'WiVE6Ym7B7ZgEZQjBUsA5N': {'multiple_choice': ' batting cage '}, 'WnCzZybnZ7YyuDvJ62YLyt': {'multiple_choice': ' These are all civilian vehicles.'}, 'WojdRVndpCBeqpSk3roFjk': {'multiple_choice': ' fluorescent '}, 'Wug9d3qD8PXM2ugMWrbNA5': {'multiple_choice': ' snow, cat, light,'}, 'Wz68Xn6EZYE34pM3RG2zNH': {'multiple_choice': ' catcher '}, 'XAvbeZ5Rqjf9hb6eDnVNhQ': {'multiple_choice': ' summer '}, 'XC7LFjtKGWBQRW2FZrXJSn': {'multiple_choice': ' soda. '}, 'XJXTjtpd7XoK9uTnTUkHSW': {'multiple_choice': ' 50 '}, 'XKEx8mEicRSJCpNMsDxGpS': {'multiple_choice': ' Pizza/buffet. '}, 'XKjvNP3RonaQcJbF2oreHb': {'multiple_choice': ' dots, stripes, dots,'}, 'XKnTd4kV5WUcrpNTRg5GJB': {'multiple_choice': ' eating '}, 'XLheqq6ar6y8HxdmSZokoi': {'multiple_choice': ' parade '}, 'XMnwGhrkndZXRyKaXNYkAv': {'multiple_choice': ' fedex '}, 'XR7dA6TKQiFc4QHMYwLDqP': {'multiple_choice': ' 5 feet, 3 feet,'}, 'XSdfYndeSP25Dm2T5e5Bd4': {'multiple_choice': ' platypuses, crocodiles'}, 'XYmNkcLb88NVASUfFkcMXC': {'multiple_choice': ' soda '}, 'XZFLgzvvF4CfTaEbBLCkDV': {'multiple_choice': ' september, june'}, 'XaVW3KQGzwUPCJeYwr99F6': {'multiple_choice': ' To win the competition for best'}, 'XcYCdxp4Javwyxx6cihuSz': {'multiple_choice': ' railroad '}, 'XfKzDoDZwVcQqTPF6xzjbs': {'multiple_choice': ' speeding, parking, signaling.'}, 'XkEu3gmYW23qTivgmHP3fN': {'multiple_choice': ' red, yellow, green,'}, 'XogitwSQqMuD3ABqp25hgF': {'multiple_choice': ' lot parking. '}, 'XpWyazzxv9nAYHcqKswwD7': {'multiple_choice': ' bottle. '}, 'XsmK9BGTpRCeMYeF7Lq43Q': {'multiple_choice': ' rail grind '}, 'Xw5HiN4AhQ2Nniw8ZD6LYB': {'multiple_choice': ' A swordfish. '}, 'YGzsjNW5NAbf7tFQeufc4e': {'multiple_choice': ' tusks '}, 'YQ3iE6vHkcuYRWwn3fFd8N': {'multiple_choice': ' Blue suit with yellow bow tie'}, 'YRPvUijZr6hbuQgiyVDRqE': {'multiple_choice': ' over exposed '}, 'YVoLEFzggKmLk7ghNNgXKB': {'multiple_choice': ' A motorcycle shop. '}, 'YY8z6xFXJJ2nBNWWiijsHP': {'multiple_choice': ' Shrek. '}, 'YcY4T8d3SVHEDD4nQJBypg': {'multiple_choice': ' cheese '}, 'Yf5ytZ8Hnk3NwYSf6YmBnB': {'multiple_choice': ' lamp '}, 'YfFNHQEnioSZJwnStCSHar': {'multiple_choice': ' this is what the director has'}, 'YibQmkwXJ4TPVqZjhqmV9r': {'multiple_choice': ' cheese, parmesan cheese'}, 'YjzdYbFMe3DLJstKyxejEm': {'multiple_choice': ' none '}, 'YkmMkPR5sqwoebanrtJNBw': {'multiple_choice': ' vinyl '}, 'YkoPwAEMfgMqGRxLyzEXpz': {'multiple_choice': \" Don't be fooled by the\"}, 'YoMKzbxjcp5XHZrxcqj3Pn': {'multiple_choice': ' no people are shown. '}, 'YofsNmbN6XCqNdfHTBmzNq': {'multiple_choice': ' Plastic, wood, metal.'}, 'Yw4eyrH9WvXX8SLfnqmPmX': {'multiple_choice': ' mushroom. '}, 'Yzs9cYUUiiJWUzXRFsu3Qy': {'multiple_choice': ' zero '}, 'Z2wV882FxEjxwqFcbMRM9K': {'multiple_choice': ' sleeping quarters. '}, 'Z5m3QsQ5uikUE6AwWUufzg': {'multiple_choice': ' refrigerator. '}, 'Z5xx32ZiWMMosQmfjqKaGC': {'multiple_choice': ' bathroom '}, 'ZBUSChQQGFWkXRQZcUxtrM': {'multiple_choice': ' crt '}, 'ZBZcWNW8gabo3RcNZu7Awj': {'multiple_choice': ' Sorting through the choices,'}, 'ZBgPFjmtW5mTt7Njdwv6oV': {'multiple_choice': ' A laptop screen. '}, 'ZCGhDHZtMcwGAY36U6XwQL': {'multiple_choice': ' red '}, 'ZDyf8aLqsUSUVCTRMk6zAu': {'multiple_choice': ' legos. '}, 'ZH4XEMQDqCEqeyqX8ruMqf': {'multiple_choice': ' carrying tea party tray. '}, 'ZVHGXacRAzycGJbvaZL6WW': {'multiple_choice': ' ocean. '}, 'ZVKndGxjdDtnrmsRUfRPxX': {'multiple_choice': ' angus hereford. '}, 'ZVihanJCkC9cEENhpyucEn': {'multiple_choice': ' snow '}, 'ZWw8aaWWifdcZdMU7Pmgcg': {'multiple_choice': ' twelve '}, 'ZXpemwU9BnGkBEdj8f6tqD': {'multiple_choice': ' ski lift '}, 'ZYdDiWXC3SqAFxW7ANe8Tk': {'multiple_choice': ' swan '}, 'ZZaVsZeNSvsTB8M2mFDcqL': {'multiple_choice': ' juice '}, 'ZdLaJyLJrM3UyQfks4vPz4': {'multiple_choice': ' trucking company. '}, 'ZeUzimMiTU6aJb3tFM7ie3': {'multiple_choice': ' tropical. '}, 'ZfTC6zzHXSMikD2CDbSrJn': {'multiple_choice': ' argyle '}, 'Zhx4M3xfkZGgH4dnopMrY2': {'multiple_choice': ' To eat. '}, 'ZjapTLh575MHGLJLdT5wkE': {'multiple_choice': ' playing with dog. '}, 'Zkx2Q6dT8tpX5CaHAVoLzA': {'multiple_choice': ' Staging. '}, 'ZpLohrc8reFQkCjJ3iFQXX': {'multiple_choice': ' shower cap. '}, 'Zpnu9g7eUGf6yYwwFN2Hk5': {'multiple_choice': ' dessert '}, 'Zt2TzKJkDQHFrbcPkxNZcA': {'multiple_choice': ' cars '}, 'ZthUeysacKx2CVGPpNKxe4': {'multiple_choice': ' broomstick skirt. '}, 'ZtyPK2Y2iMngTE2jBMJQpP': {'multiple_choice': ' petrol, gas, diesel,'}, 'a2NwsGL4TDKVjb89XHSn5i': {'multiple_choice': ' monopoly '}, 'a8KA5MV9JnCTqyHCeKCfEW': {'multiple_choice': ' Ramp. '}, 'aAEJFGA3xJLXv4gMXqCd84': {'multiple_choice': ' For safety. '}, 'aC77EkAro3tybKmAJPUAH4': {'multiple_choice': ' A coach.\\xa0 The coach'}, 'aDVS7CNLi2et7Uf7kEEZeQ': {'multiple_choice': ' playing '}, 'aFoRsjc727Fzy7QCG3DEsP': {'multiple_choice': \" i don't know \"}, 'aJHeEgCPQ2LCEwtsZWbd9Q': {'multiple_choice': ' crane '}, 'aL2mrGutdZCcG5Da5m6avg': {'multiple_choice': ' no '}, 'aUgAiwcNTDksCTSB4zLqLx': {'multiple_choice': ' medical. '}, 'aWbDSeQbZjRdUSg42vfGyi': {'multiple_choice': ' Robert Redford.  '}, 'aX3pLQW2CigHrJVVMETaey': {'multiple_choice': ' 89, 66, 61,'}, 'aXA73vtTRAUJ79PHaVuhF8': {'multiple_choice': ' acrylic '}, 'aXNsPe9LnRuqorhKQ9McLC': {'multiple_choice': ' one '}, 'acLP6cnPoWn8iZ9aD6F8ZL': {'multiple_choice': ' frisbee. '}, 'adCKLgHUzBBhEmMyf8s8tW': {'multiple_choice': ' fish and chips '}, 'adJ3Kj52nGJVwytjWDJjCA': {'multiple_choice': \" he's been kicked. \"}, 'adYBVSLgdqCGZjjVacKNGg': {'multiple_choice': ' lettuce, onion, radish'}, 'admjQXJJsLpbcEdRVyvVsf': {'multiple_choice': ' paint, dirt, straw,'}, 'akDNCt5XCGvjw33C3ong5d': {'multiple_choice': ' brunch '}, 'aoF64JjYJnKQaPaTyshZh9': {'multiple_choice': ' Orange. '}, 'aoGyPaA6ZWkaQSZYXwdyEw': {'multiple_choice': ' hemis '}, 'apxbVY3Q3arXvhq3DXWFKC': {'multiple_choice': ' no '}, 'avHqQqojSySkp7zg2o7afF': {'multiple_choice': ' snowman. '}, 'awiLcr766TJkZENT7kBLBR': {'multiple_choice': ' strike, ejected, nothing,'}, 'axQQHVN8GNWTHu4B4fzqaF': {'multiple_choice': ' sitting '}, 'ayLDJwHtkkfkn7twcJRGGo': {'multiple_choice': ' residential building '}, 'b2photCPzvgmyTJXLzEgbW': {'multiple_choice': ' yes '}, 'b57dJ74KfRbDSDzkD8bSWJ': {'multiple_choice': \" The boy isn't in a\"}, 'b5XoCkzFXxELg4R5SP4uEf': {'multiple_choice': ' frisbee '}, 'b6tZAg7f28UHbins7nWcpo': {'multiple_choice': ' no carrots '}, 'bAZ4e6x3iLpkJMi8joS9mw': {'multiple_choice': ' blue, fluffy, barbed'}, 'bCewJfNy7SdgVeNaQrbTN9': {'multiple_choice': ' glass '}, 'bDXLr8CDvR6oDCL2xMHV3v': {'multiple_choice': ' Deep dish. '}, 'bFHUSwTBE33hag9jVm6iJr': {'multiple_choice': ' chopsticks '}, 'bJibpiu5MQYbPEn4czsCea': {'multiple_choice': ' school '}, 'bTGQFiRVpf3sA2KURQcTQU': {'multiple_choice': ' boat. '}, 'bTRUSAypEjzP5XWNW954RK': {'multiple_choice': ' a series of images of the'}, 'bTkroMPt2NzXSUFCPZS823': {'multiple_choice': ' passenger loading of a plane.'}, 'bWUR6AzW6CejWi3EG2PZfT': {'multiple_choice': ' person is faced with a choice'}, 'bZ25bkAHbKKbPwPxLq6tgP': {'multiple_choice': ' oranges, pears, grapes'}, 'bZont5aBGPxG5hEGcRHk4r': {'multiple_choice': ' you can guess from the back'}, 'bcXERNeXxn8CmkodKezv7X': {'multiple_choice': ' digital signs, destination, advertisement'}, 'bezNeT66zH5bmV9XRsGhcf': {'multiple_choice': ' tree, mountain, ladder,'}, 'bf5TyZHVCjmFbsBP9o7qMq': {'multiple_choice': ' pink, all suits, pink'}, 'bf6qUEbh434BJZ3d4MWsU9': {'multiple_choice': ' toyota '}, 'bfr2EuyWxuSqeL23qocAe4': {'multiple_choice': ' cardboard box. '}, 'bgFM5EQ66AGQWorBoJzymJ': {'multiple_choice': ' 1, 3, 2,'}, 'bkDub4yWQqeZVboUxpBCAd': {'multiple_choice': ' bathroom. '}, 'bmXjvk9NznKw8jyhjjZuqi': {'multiple_choice': ' plastic '}, 'bp87frxTcBx6bA7KtzDFp7': {'multiple_choice': ' w/ people. '}, 'bqgrwRMbZtGzixs99Lommf': {'multiple_choice': ' surfboard '}, 'bsEAp6tE9zHfcQ2ZASJYbZ': {'multiple_choice': ' Ground. '}, 'bt6WFDHUBaFadif2oq3h4k': {'multiple_choice': ' Laying down. '}, 'c4kK8bzsKvVyN2KzoAkKpT': {'multiple_choice': ' hate, fear, love,'}, 'c7bJDbwpd27BqNaJzK9ubb': {'multiple_choice': \" yes 'cause i want to\"}, 'cFQCDdKxosyJPfNAGYAd3o': {'multiple_choice': ' flossing '}, 'cHj9fNtX8oN4JATDhDUC4T': {'multiple_choice': ' cat. '}, 'cHkTFzqn2VpbUHXky7DhQz': {'multiple_choice': ' dog. '}, 'cJWo8W7BsstCU73xdVW3zF': {'multiple_choice': ' shredding device. '}, 'cRGhffFZWNyQviWrJPmRCg': {'multiple_choice': ' 9 '}, 'cVAR5Tf2PErGycfZ6JUUEr': {'multiple_choice': ' book '}, 'caoMCyFq9e2eNFohbFzEWN': {'multiple_choice': ' park '}, 'ccZR5KJLUyDM8CqyvVVWbj': {'multiple_choice': ' Circle, rectangle, square,'}, 'cctHD6Sgao4mvCUTQ8RLkU': {'multiple_choice': ' a door. '}, 'cdRdX2gv29YLpSgqTiWGPt': {'multiple_choice': ' no '}, 'chXZTHvYp7pFsdQhLyAC9F': {'multiple_choice': ' tennis match. '}, 'ciMU7f8NdZMAwQJDmPrmcH': {'multiple_choice': ' labrador '}, 'ckEWdFtXTjmNaM5gGbqQH4': {'multiple_choice': ' eating. '}, 'cm2fk2B2GKPXCLkpzrSxaH': {'multiple_choice': ' yes. '}, 'cmDRUcNRtcvVpHzURp8W45': {'multiple_choice': ' Part of the challenge of the'}, 'cmnswk6vTNcnbewMUPmnv8': {'multiple_choice': ' Red haired girl is happy'}, 'cpFBV7cMfv53fdwaaWiWGt': {'multiple_choice': ' what is that, a refrigerator'}, 'crFTuf4oK8K3SqFqWe7d8X': {'multiple_choice': ' Silver. '}, 'cw76LXiDncor4xpkaWcaDX': {'multiple_choice': ' sheeps '}, 'dEK7AgGqKR96Axjhm22tnL': {'multiple_choice': ' a battery of batteries. '}, 'dF3yMTwwWYEDqax7b4n9VX': {'multiple_choice': ' no '}, 'dGNtvZFEJbcK6dbZNuPfPq': {'multiple_choice': ' playing with a dog. '}, 'dHBDGPwELp65UFhPhSZyEu': {'multiple_choice': ' sitting '}, 'dLGivwZ7fRpiDAqxkDxd5X': {'multiple_choice': ' plane. '}, 'dTa8nkCw9jfvKMzHmdvYCT': {'multiple_choice': ' door '}, 'dYPm6FoCySuwWSw7pPbTKC': {'multiple_choice': ' snowman. '}, 'da6PS4adVsfrcADUNQ8GMx': {'multiple_choice': ' no '}, 'dbC66LJz8ReZjXJJEt7xvW': {'multiple_choice': ' united states flag. '}, 'ddjEou8vsFUmvEAvgXxh8n': {'multiple_choice': ' one that is not football.'}, 'dgiMniYGqfUmHnVDLJdayu': {'multiple_choice': ' derby cap '}, 'dhJDsvTigyVh6W3kHQcMLa': {'multiple_choice': ' baby '}, 'dohJioF4j23dw6b8AgCxqx': {'multiple_choice': ' backhand. '}, 'dpTTTMowgDYptWd2YZdUT7': {'multiple_choice': ' right and downhill '}, 'dqTfuzYZnbZ4MTNFc9Zkeb': {'multiple_choice': ' pointsettia '}, 'dsj5pM6cKMWbpv8viqkUyN': {'multiple_choice': ' yield. '}, 'dvvTUCDA3wK4Q9KZKboPgg': {'multiple_choice': ' steam, fuel exhaust, wood'}, 'dwxReu6Xio6pQQxjps3Xtj': {'multiple_choice': ' Pencil '}, 'dzMDeKZdrfarPRuDMg5DPE': {'multiple_choice': ' The man has a rubber glove'}, 'e2tBLmwDciwSoY7nqUsS2D': {'multiple_choice': ' snowboarding '}, 'e52REttPVvHxGe9H9Y8iya': {'multiple_choice': ' at the top right corner of'}, 'e7kbVPy7P3pEp7pBNJNZTU': {'multiple_choice': ' buddhism '}, 'e7mX2aASmkZwAXRiHbK6QZ': {'multiple_choice': ' 75. '}, 'e8C3zCrRwuZXfsWLB6WisZ': {'multiple_choice': ' pizza shop '}, 'e8EayGjQkqTfuYyHQRAEBC': {'multiple_choice': ' no '}, 'eB3RtTTsyXa6YKzPMrm4kd': {'multiple_choice': ' vodka '}, 'eBgzKWWRWbkzRJsrfBqGBV': {'multiple_choice': ' manufacturing. '}, 'eDZFWUyFe832NMLpecBV63': {'multiple_choice': ' Red hair, long hair,'}, 'eEb8jhgNYqiJED63DeAKVT': {'multiple_choice': ' left '}, 'eJTAScNwDH8iedN247LDBV': {'multiple_choice': ' helmet '}, 'eNrkV5MyWHSeR6F7jbf3Fm': {'multiple_choice': ' magazine, books, remote controls'}, 'eQRQC4E5pZanwwyme6kTJA': {'multiple_choice': ' nature reserve '}, 'eTzxabUHi9XjTeaAKr9nz2': {'multiple_choice': ' yes. '}, 'eVSP3pkyjc7WXrz4KPd2rz': {'multiple_choice': ' no choices available '}, 'ec8EjipayMWjJLnwsWsrD3': {'multiple_choice': ' surfboard '}, 'edgUrxZbEmJboFbFUdBdCm': {'multiple_choice': ' baseball bat. '}, 'ee4bPHg93VdP6dqmUAGtbg': {'multiple_choice': ' suzuki. '}, 'efPGEhVYzatJbs8HcmV9rW': {'multiple_choice': ' yes. '}, 'egoXFuXgENCZik7xrP9der': {'multiple_choice': ' i do, try again,'}, 'eiLeNz2CFKYS7AFZDXrKEM': {'multiple_choice': ' family '}, 'eiTuwtpwaP6LXCBDdhRfUU': {'multiple_choice': ' Bar - Stoves are on'}, 'eknnNjTPL6m3PBzaxLZbbh': {'multiple_choice': ' chair, sofa. '}, 'epWz8dQzRohUWmTphUjt4p': {'multiple_choice': ' fire, animals, water,'}, 'epeFzsUCjPeSnj6QjSa9So': {'multiple_choice': ' curb. '}, 'es4dTSrFkgs2LEtLByV5Fk': {'multiple_choice': ' rail grind '}, 'et6akpyxHvFPfKyPNtNzSi': {'multiple_choice': ' rotary '}, 'f5DyWHCeTdLVN7kHd8zguE': {'multiple_choice': \"... they're on a road\"}, 'f5nsFmeqGkf4zfaSVk4ocX': {'multiple_choice': ' mother, daughter, sister,'}, 'f64sjY8tRYzCoYyGq2fyem': {'multiple_choice': ' refrigerator. '}, 'f6veAkmc4fZwqbVmqZxs7z': {'multiple_choice': ' roof '}, 'f8zgqNptbviU5cyJpQKege': {'multiple_choice': ' A basket. '}, 'f98CKzuCeHPRkbQSvQ8DWn': {'multiple_choice': ' To eat - this is not'}, 'fANoeH2ASUFa5ZeVzBYwjF': {'multiple_choice': ' chatting, napping, playing'}, 'fBAFVnTtnpQ93wUBQAEC8L': {'multiple_choice': ' clock. '}, 'fBq7g59duqhmbqAtjWY5xf': {'multiple_choice': ' mcdonalds pocket door.'}, 'fELKZdaVNLwGEQZByv3jmp': {'multiple_choice': ' skateboarding poster '}, 'fLRvDM4xG4ag8n4JC6CUQz': {'multiple_choice': ' picture. '}, 'fQFRMaUHmiyqntdRxaa8Lf': {'multiple_choice': ' greek. '}, 'fQxikBu5n7M2LWh5xV2BAb': {'multiple_choice': ' skateboarder type of move'}, 'fQykduWza8cpGuwj3CxHtF': {'multiple_choice': ' flock '}, 'fRsrJ35b56YXKrbbzs59pn': {'multiple_choice': ' low '}, 'fUKdZK7FEHkWsjtLTeajkn': {'multiple_choice': ' seattle. '}, 'fVBJLwGMCV6Dq9cEaGyrq3': {'multiple_choice': ' hd '}, 'fVuz8FFvFG4BEFRwzT5Ppg': {'multiple_choice': ' yes. '}, 'fVxFwdk685zsCqsk7PvKM3': {'multiple_choice': ' bottom. '}, 'fZVNJLSu2SxMramndCnER8': {'multiple_choice': ' tennis ball '}, 'fc9QkXjzTTYvw5oAqRj6H4': {'multiple_choice': ' flock of animals '}, 'feGFfp3nMKyVUYRboCosh9': {'multiple_choice': ' this man walks on earth.'}, 'fgF7yNqEPZiNszHnQZKkxU': {'multiple_choice': ' no one '}, 'fjqDSmg3254rQUdBJujxZy': {'multiple_choice': ' Australia. '}, 'fpF5ZKeP3xrZCP58anLwra': {'multiple_choice': ' red peeled banana with ice cream'}, 'fpgzreGfZFZQjPFocePhFo': {'multiple_choice': ' snow.\\nB: snow'}, 'fucubLgW4kCAtRkT6nDaPa': {'multiple_choice': ' trophy '}, 'fxWzXTapRBT3NJNiL9yuX6': {'multiple_choice': ' handicapped, elderly, pregnant'}, 'g5VNWgEAqTK8RdPgfGh9NX': {'multiple_choice': ' barge. '}, 'g6FBm6c3vQifeHApcPidEZ': {'multiple_choice': ' store. '}, 'g7xtDFAVrWx9w6DHFgcKkz': {'multiple_choice': ' bike lane. '}, 'gBMjiGJJSm7nuM2hmvxURC': {'multiple_choice': ' The best way to eat this'}, 'gHLMqJkY93TUV94a7tLpoR': {'multiple_choice': ' boat, gee, blow'}, 'gHfctVt5jWCGmTwQyDgebm': {'multiple_choice': ' donut and burger shop.'}, 'gNrbLyhKYG8AMtxJTgB7E2': {'multiple_choice': ' sealing the window. '}, 'gR5qY6Tpgq26YAbGrZAwwJ': {'multiple_choice': ' backyard. '}, 'gVpcdVA7d4t69Wgw9yS5d9': {'multiple_choice': ' tennis ball. '}, 'gXBksm4FiAGgUDw3a3EUaF': {'multiple_choice': ' van. '}, 'gYUipbusGScQ7oXEUejBMf': {'multiple_choice': ' fielding '}, 'gaHwkDQUiMLveSnrXFQMms': {'multiple_choice': ' sewer '}, 'gaKyGVP3dVZGGtonfcuK6r': {'multiple_choice': ' london. '}, 'gbDHb3RPHzKdwPsEQP6vxs': {'multiple_choice': ' canada, us, u'}, 'gcedAQnUFuSzQFGSnjixym': {'multiple_choice': ' soybean powder, coffee grounds'}, 'geoznuKRiPX5hf2he5EgpS': {'multiple_choice': ' no. '}, 'gfHjDx5E9L9QMsbgnxSFdm': {'multiple_choice': ' toyota 4runner '}, 'gnWMLABzefU4wXEUTXxrVC': {'multiple_choice': ' salad, sauce, fruit,'}, 'guwEPSB4oc6X2txXJJsomW': {'multiple_choice': ' still wind. '}, 'gyf9Y4vh6mVZcbY7MH6fxB': {'multiple_choice': ' mercedes '}, 'gzytVm5g6vXWY8VDF7tSEr': {'multiple_choice': ' diagonal '}, 'h4PoYae2w6GRRu2npXvwuK': {'multiple_choice': ' bird '}, 'h4zCFQx6fTvww2Z3rzcq9K': {'multiple_choice': ' art '}, 'h74gXxfogmocHgcRdcoHEg': {'multiple_choice': ' apples, carrots, ham,'}, 'hAnVoSeXQksd6ZjSYMBFpA': {'multiple_choice': ' sky diving. '}, 'hB2doqSEEeky2XNUEHdz79': {'multiple_choice': ' stool '}, 'hECCUB8FXovMC5nNPG2itn': {'multiple_choice': ' 37, 85, 22,'}, 'hGPYsdTTBmP2uYYGodPkkt': {'multiple_choice': ' motorcycles. '}, 'hJe5wYuE8Qr9uuzc9zahBx': {'multiple_choice': ' watercraft '}, 'hLHsuNu5R8Hf8xat2DzcDb': {'multiple_choice': ' government building in upper right corner'}, 'hSrHK8kZfrc6tZgTB7yMmW': {'multiple_choice': ' Domestic. '}, 'hTNJXskvyVHvfhYb7Mdp7X': {'multiple_choice': ' truck '}, 'hUddfx4tZ3KGtSWFbGphnh': {'multiple_choice': ' quartet '}, 'hUiYQuwqYiQH2xibX65Wss': {'multiple_choice': ' mayonnaise, icing,'}, 'hUuZHj9U6dgD53jRBVVYfk': {'multiple_choice': ' cinnamon, sugar, salt '}, 'hVFNQ63oXdszJvNvWDLoHt': {'multiple_choice': ' A cat is shown doing what'}, 'hYJoVHmJ5wehgSYxxAt2Eb': {'multiple_choice': ' child '}, 'hZV5fCospVTsaMc27Rbvc4': {'multiple_choice': ' bulldozer '}, 'hdZWqnfnTxgxXMZ4AJSWtM': {'multiple_choice': ' the room thing '}, 'hgamoABdWM75WAPWU2rCdT': {'multiple_choice': ' woman. '}, 'hikczeyros8C4QajTVYThj': {'multiple_choice': ' frisbee their hand against'}, 'hkMfnT4LEQi4HKPck6FVor': {'multiple_choice': ' bolivia '}, 'hmfuC58r3K4Yg7EkMxJXXb': {'multiple_choice': ' carrot '}, 'hnKD5XstcaNYe6tjb6vCPe': {'multiple_choice': ' office. '}, 'hrbVpGvQvzUsT7sFzWQWXu': {'multiple_choice': ' film '}, 'hrzBKUpTCF5Bp7uvJbjv9Z': {'multiple_choice': ' blu, green, red,'}, 'hxRkeGBLz5CdxgnXSgiiH7': {'multiple_choice': ' hooves, feet, ho'}, 'hzfzWaLVz2ASnBBWc77fxG': {'multiple_choice': ' dragon. '}, 'i2ZhyTn4CzHyVxCjM6JFP5': {'multiple_choice': ' fruits, vegetables. '}, 'i2snYhswVVyhfgxn8DcGnk': {'multiple_choice': ' left person '}, 'i9MJBUxa64ZL4vaG7hse5x': {'multiple_choice': ' sitting. '}, 'iEUBT5a5ajx5MR33EMkQVr': {'multiple_choice': \" penis and cupid's bow\"}, 'iL7gMCQ2U2vjmJWoyYc9wn': {'multiple_choice': ' Tin foil. '}, 'iNDT4fYo9xeKBX6TrvtkVR': {'multiple_choice': ' boxing '}, 'iSYpHGY6hdWo6qLQBbrENX': {'multiple_choice': ' ping pong. '}, 'iXYYsBAjutihbRQuT3LVzn': {'multiple_choice': ' looking down at front of desk'}, 'iepNGdTWvJFnPbHVTuKmLw': {'multiple_choice': ' bass boat '}, 'ijeUcdVFHVYtTABEpPYJCR': {'multiple_choice': ' yes, yes, yes.'}, 'inA8DF895bDbH7gLhXnenH': {'multiple_choice': ' ilectric motion imagery'}, 'ioNZxNbwvEagLBwSYCmVkU': {'multiple_choice': ' seagull '}, 'iq9BaDbmL7bZfnXELtibFz': {'multiple_choice': ' chromebook '}, 'irhkgQFLQikZ9fY6LfKbKN': {'multiple_choice': ' converse. '}, 'iriWmuGxQfwS4Uj8UE2ojD': {'multiple_choice': ' park. '}, 'isR9iC8cxoXvYQYBacRuzc': {'multiple_choice': ' no banana at all. '}, 'j3G4tBe5ga2sVPS2yWYbFM': {'multiple_choice': ' to serve ball. '}, 'j4usZ4NoJf62hcBq4GCBc7': {'multiple_choice': ' Italian. '}, 'j5HvFYT7fQSpvcuwoY7495': {'multiple_choice': ' flag of united states. '}, 'j5j6LUEzw383spcNXi7XhT': {'multiple_choice': ' skateboard, bicycle, skate'}, 'j6AP78GdCUYqzaxWmNS5MX': {'multiple_choice': ' cereal, produce, meat,'}, 'j6q58xPaDShNBgnj2kKpAP': {'multiple_choice': ' no person in park. '}, 'j9ix7Egb5KJ7PkXttbbtdC': {'multiple_choice': ' Playing with a dog. '}, 'jDicosLUWpypTQmQkRhC4W': {'multiple_choice': ' fedora. '}, 'jE3TsyErJ4eD8rPhTzBzb6': {'multiple_choice': ' looking at a man '}, 'jENRJNFPp8S9aqLGkRfkiU': {'multiple_choice': ' zoo '}, 'jJtrzZ4RRXKH8SSVmgw8tp': {'multiple_choice': ' zoo. '}, 'jK2QtNn8nC2mC2E57bZv7L': {'multiple_choice': ' fall '}, 'jKMHHLCYMYAARWrY2r4KHW': {'multiple_choice': ' left '}, 'jMvTvShVbt7rP82s3rRXxf': {'multiple_choice': ' metal chair '}, 'jQLQXdTab2NMEr4CHskSjQ': {'multiple_choice': ' Q: What is the color'}, 'jQjEGnnPzL4AVqfBAfHvjq': {'multiple_choice': ' Tennis court. '}, 'jRxbsCVJxNtUMvsEBfpTaE': {'multiple_choice': ' train that can move. '}, 'jT7i37wypejYFkuDY3xLLg': {'multiple_choice': ' crayon B: printer'}, 'jVXbihURQxsHwkTVByGBKj': {'multiple_choice': ' no people in picture '}, 'jZ6AjasusNaTDooYZHPv6L': {'multiple_choice': ' yes '}, 'ja6pMKAxBoEM6Q9tvtsmMA': {'multiple_choice': ' choice of wooden materials. '}, 'jb2M9hwaHvK2itZac5i4tb': {'multiple_choice': ' boat '}, 'jbdEbFFZDtMSrD3h32SFAp': {'multiple_choice': ' To catch the ball. '}, 'jfuLWvGbtvRTnLYAPEE8pi': {'multiple_choice': ' four. '}, 'jnEMGAZLdvFn9ZgBYUbAUX': {'multiple_choice': ' No. '}, 'jnuckE6W2YqaueH7XL4ogy': {'multiple_choice': ' yes '}, 'jqhSWKF72XwtaJGZH7XbS9': {'multiple_choice': ' 12 '}, 'jtqcU9Q9ToadtKDFM8p7mP': {'multiple_choice': ' rice '}, 'jvRoVpT79gh4dBU94qtsK8': {'multiple_choice': ' microwave. '}, 'jyrnj3VZZGHVf5gYxzYmxA': {'multiple_choice': ' A wedding. '}, 'k3XafzjyDZn8GCzcH9BE5g': {'multiple_choice': ' nine '}, 'k8WjRvSCus9iQjUV6mPbCQ': {'multiple_choice': ' bomb squad '}, 'k8y3RfpAYmSuXDkcpiDQrx': {'multiple_choice': ' Eating. '}, 'kHb4MjmU3bZTRY5qJSrZe7': {'multiple_choice': ' Serve. '}, 'kLeQDtR5HUh6L8dbvEzhGe': {'multiple_choice': ' microwave '}, 'kP9etcrALtsYL363dVhT5Y': {'multiple_choice': ' kick stand, bike lock,'}, 'kZWuYe4HefJH33d7GCb4Tk': {'multiple_choice': ' sushi, pizza, italian'}, 'kaocqcY3CESTstFs9Bd4Pg': {'multiple_choice': ' midnight. '}, 'kgUHGxPt2H4SrR5Nb9be44': {'multiple_choice': ' shirt. '}, 'khkvYrTt2t5MTJyJvBNiDR': {'multiple_choice': ' tomatoes, peppers, steak'}, 'kkSpeDk4MgZ6g4KPcyS5Lc': {'multiple_choice': ' these are dressed as animals and'}, 'kpuykmWTony3CofsE8S8Dt': {'multiple_choice': ' new york '}, 'kqVKk7x35jEP3uXnZR3wBf': {'multiple_choice': ' The man is sleeping. '}, 'kqxqUW6zqryU2Cu2oz46fH': {'multiple_choice': ' A man in a suit holding'}, 'ksqkKgifofmUwDS94V5ggP': {'multiple_choice': \" don't ask. \"}, 'kyKhGsfSaSgAxrLEqyWgqq': {'multiple_choice': ' pelican. '}, 'kzYUWLK5ajb3LRzgYcCFXc': {'multiple_choice': ' no '}, 'm2mA48VKETDDYeJKgD5qSx': {'multiple_choice': ' Family. '}, 'm4BSqisXuHjv98qLTDT2NE': {'multiple_choice': ' frying '}, 'm4HzZ8497MsdVCT3HWMJA2': {'multiple_choice': ' emergency telephone '}, 'm5WdqTRtUoKxbPMBxJRUtg': {'multiple_choice': ' fire hydrant. '}, 'm7QwuD24FiwpWgFgkzBb7M': {'multiple_choice': ' woman. '}, 'm8XZ5DnesmzfsjwMhMsbfe': {'multiple_choice': ' oregano '}, 'mAt78gqtxnGgcVGrA4tHN5': {'multiple_choice': ' twentieth century '}, 'mDPZ2AJQQx7b6CASimGgGD': {'multiple_choice': ' restaurant. '}, 'mEmUcZuHB6GamJkfCAwtsD': {'multiple_choice': ' The forest. '}, 'mNNi2tGdk9CvAdHYyZekG9': {'multiple_choice': ' formal dining. '}, 'mQ4rtN2j9oECfTdyWEczjX': {'multiple_choice': ' stretching '}, 'mQ5TJVLswrNGGP3La64Erc': {'multiple_choice': ' eating. '}, 'mQJZ2QZgUf2uzSoLNyFn8w': {'multiple_choice': ' Dogs are powered by humans.'}, 'mR37Xa62rp3FvidP5ppgCc': {'multiple_choice': ' human '}, 'mTeNP8rQAWywyEL6BxJzMr': {'multiple_choice': ' read '}, 'mWHEDu3pfYCy9FwrW5Qkt2': {'multiple_choice': ' cloth '}, 'mXqJFvpNahd3xSBSMLqk9M': {'multiple_choice': ' mayo, ketchup,'}, 'ma7Jzg4NKgXtp5cBVh4kFP': {'multiple_choice': ' white room. '}, 'mcfejYn8zoagoF5VgNuR2F': {'multiple_choice': ' red wine. '}, 'mdsQntNbjZRukzkyyHaD8T': {'multiple_choice': \" can't decide \"}, 'mdxki75RbHjL4kGrUbbSY2': {'multiple_choice': ' ankorage, boston,'}, 'mhLhbPavrBpfdknacMN7GL': {'multiple_choice': ' bar. '}, 'miQ67PB4K4pA5v37BoLda9': {'multiple_choice': ' blender '}, 'minwD4A8mxqhLxMHjfniKy': {'multiple_choice': ' doughnuts '}, 'mjCY6VtSoZiKbBKKx3YuLZ': {'multiple_choice': ' yes, we can see that'}, 'mo9chSC5Km6Nu3Dg3mwrX6': {'multiple_choice': ' cam bedrosian, pa'}, 'moDoPYYpw2bSfSdDnFnut9': {'multiple_choice': ' turkey '}, 'mxJ9HhWF4QbrG97rdsY7Pe': {'multiple_choice': ' A living room. '}, 'myZ67NZGoYaNEa8kADF8rV': {'multiple_choice': ' quasi-realistic. '}, 'n2V3ufCHusHxHg3doMLfoT': {'multiple_choice': ' The person wearing blue is the'}, 'n2aTnUjkSkZPZEWK8S6T9Q': {'multiple_choice': ' turn right, travel reverse,'}, 'n3EWd223KWajDuTgFCGZmw': {'multiple_choice': ' dryer '}, 'n3pP3X6CbTGfsNu52Eujfm': {'multiple_choice': ' paper. '}, 'n94Br4ZABpt9F8AeBnAaQK': {'multiple_choice': ' wire '}, 'nKwQobxEKFkMGtc8DcQ5Ju': {'multiple_choice': ' 3. '}, 'nPTyUSa2BpdW7QXX7eKxpv': {'multiple_choice': ' two. '}, 'nPhzzycXaUKH9UGFjCjsKQ': {'multiple_choice': ' two '}, 'nRteor62jdHkABoiGEqDoS': {'multiple_choice': ' plate number. '}, 'nSKBbRdixLP5o5mr8W2VBJ': {'multiple_choice': ' car. '}, 'nVg8yTiMtqm4VmDPRDPhLB': {'multiple_choice': ' hearing aid '}, 'nWKHkqWrAhfXG7eRWGX8B5': {'multiple_choice': '  '}, 'nbKEZAsRQ7mimyjkQYFn6d': {'multiple_choice': ' trash. '}, 'nejsAgBentBTfKxMaELBsr': {'multiple_choice': ' Make a choice. '}, 'ngQSEzXpxxTNJ4mVQxD9JM': {'multiple_choice': ' The brown leather couch. '}, 'nhdJhq3kPGKBKMx4FCvXUs': {'multiple_choice': ' sports facility. '}, 'nidoPGHJpvjJLkJWzxWUng': {'multiple_choice': ' passenger plane. '}, 'nif2rWzKpmykkka2moeA3e': {'multiple_choice': ' riding them '}, 'njzRWp6op4a49j3UtEjEFo': {'multiple_choice': ' While there is a table of'}, 'nkstSbXoxcYyHbvBbKvZtV': {'multiple_choice': ' zebra '}, 'nmLBpYK7TqpwcCnkYbL2Tr': {'multiple_choice': ' eating, attacking, bathing,'}, 'npMJUgqcniPJuZPEh7mP3t': {'multiple_choice': ' person, grass, tiger,'}, 'nqDVieEVdjDt3CELi7g5Zh': {'multiple_choice': ' A van is parked by a'}, 'ntQQ9FVL9GKUoT2WvCWiHD': {'multiple_choice': ' glue '}, 'nz5BRooQteeNkQ2by7nGyU': {'multiple_choice': ' dip '}, 'nzNFFqRxL3q4gJf2iXRMtT': {'multiple_choice': ' ribbon '}, 'o5Pf29Ro76nufH3SYS49LM': {'multiple_choice': ' pina colada. '}, 'o7YUWt5CppEBSMU9tUszUZ': {'multiple_choice': ' rain '}, 'o7eySiU8AwFHu3Lgp5xoK9': {'multiple_choice': ' waxing '}, 'o9RMCCdLoYDGb6oR8Z3yvi': {'multiple_choice': ' concrete '}, 'o9UdSvT8pgAVAQCkm8XPdz': {'multiple_choice': ' ocean. '}, 'oAL5LQnAH9sB2oMiAmxsbq': {'multiple_choice': ' microwave '}, 'oCwi6S3N5sKMdGtLLocG4p': {'multiple_choice': ' adrian '}, 'oGPSzHdRANrLhhyZLbbqNf': {'multiple_choice': ' zoo. '}, 'oJD9cm8E2JFszgzyPjaVgn': {'multiple_choice': ' not sure what this person is'}, 'oNbHrnMXrskfw3TXzZ2QUp': {'multiple_choice': ' no '}, 'oUJexrTXPEKNEATboAHaAA': {'multiple_choice': ' breakfast, lunch, dinner,'}, '578p2wBoYH5uozEuVypCEw': {'multiple_choice': ' elephant. '}, 'CijjLDFS7tQM9TcoWMr2Ai': {'multiple_choice': ' acquisition '}, 'DD26xWreRvVu7ZDimAYL3e': {'multiple_choice': ' nineteen '}, 'DD4oNBRHkHMzFGGVpdmrJi': {'multiple_choice': ' hips\\nB: legs '}, 'DdkfCj4NDiSSSVhqbtwCY2': {'multiple_choice': ' to block sun, to hold'}, 'MAeoFJtYupeza6U6eeTWRc': {'multiple_choice': ' National Zoo. '}, 'NRg96YBDgRbc5zFqdhKCC4': {'multiple_choice': ' safety '}, 'PK5o4oqyymgbmrsrLkF2Hw': {'multiple_choice': ' nike '}, 'QfzADtoknvheZQ3r9o4XWa': {'multiple_choice': ' gargantuan, rotund'}, 'SkThfxuJxxSm39tNSA4FmQ': {'multiple_choice': \" jackson's ladder. \"}, 'TCqWeX5SXeeUmMjqkWnbSz': {'multiple_choice': ' remote control '}, 'UY4enMq3yMvLG5oAXZQVQL': {'multiple_choice': ' nov. '}, 'WrPmpcpv5q8Drcc8xwkak9': {'multiple_choice': ' Seeing a play. '}, 'Y4KDhiu2MeKojYumTWRevx': {'multiple_choice': ' tunnel '}, 'YgiqkypFRQHVYHqieDPN9u': {'multiple_choice': ' Fashion. '}, 'a4WQwPgnKUrGfWf3T2vpxE': {'multiple_choice': ' Proud. '}, 'a5oWkZ7rkxNTvRLkk3ousT': {'multiple_choice': ' stop '}, 'b6kMEJD9bLnsJksyGqZgcR': {'multiple_choice': ' canada. '}, 'c6Lei76FbsSgEKViCU2Kc5': {'multiple_choice': ' sitting down. '}, 'eHoQtRmsLAC3Ggzm5jKPXA': {'multiple_choice': ' cigarette, candy, fruit,'}, 'eYDDWRpmaNrFZDRCNs6c5z': {'multiple_choice': ' walmart, chanel'}, 'iTeGLgJNuQjkRqeTmKwWLs': {'multiple_choice': ' s, b, f.'}, 'kGn5XFpkwvtJNrUnPLSzwm': {'multiple_choice': ' cape '}, 'mK6UjDvYm6Wzn75aaaSEdF': {'multiple_choice': ' playing with a gun. '}, 'mZGqAwu28rKDYShh6mrTz7': {'multiple_choice': ' yes '}, 'n3q6CBsJfobMm4vAqMGi38': {'multiple_choice': ' muffin '}, '2UqDdmoKsLVD4Vt2qeMFds': {'multiple_choice': ' The men are wearing suits.'}, '2gD7ih9AsXq7BmRBn57jv5': {'multiple_choice': ' hereford. '}, '3wvvpLQuiKWmKy5RHKESEC': {'multiple_choice': ' eating '}, '4XAzPXBEk6aZHFvdPTKdjH': {'multiple_choice': ' They are playing. '}, '4YdWSrT4x9p78GxJhf6vis': {'multiple_choice': ' ice cream truck. '}, '6GNHDAUJnk4GUrW6x4AJwF': {'multiple_choice': ' water '}, '7Q2MqmLkDhRu93vhjMPJXJ': {'multiple_choice': ' volleyball '}, '8a5uCKsjUC9vtK2i7Amh28': {'multiple_choice': ' labret, spider bite,'}, '9y2mxyvd3BxHofPfXKjG67': {'multiple_choice': ' date '}, 'A4pTVyj6FszUQtpyuwuEs2': {'multiple_choice': ' The Shop of Doom. '}, 'ANzKkT7BMAmz62TWUSbPNn': {'multiple_choice': ' out '}, 'B97VhjPyWdn4pXT5SvQybF': {'multiple_choice': ' Stop eating sugar. '}, 'CCVav8uwNeAerpwiN2jbcx': {'multiple_choice': ' scrambled '}, 'CY5ZZbpJFTLSwMbjGybzpS': {'multiple_choice': ' The plane is in an emergency'}, 'CfaSzNgDy23yuC4X55XVmn': {'multiple_choice': ' Eating. '}, 'F8Df2XjGi87XQBkJNa79Ka': {'multiple_choice': ' bakery '}, 'Gv6voFmtsboJcuT7NppWmh': {'multiple_choice': ' rust,, sunder and dem'}, 'H6tcAFjWHYBPUpyvG5PVrv': {'multiple_choice': ' hot. '}, 'KGhKWAGTj6kUsxSUHDH8t5': {'multiple_choice': ' candle holder '}, 'KMF7Ym9gSvVVJ5QoLtTpt6': {'multiple_choice': ' their color uniforms. '}, 'Kn65sKCZq6EBQWNdQB469p': {'multiple_choice': ' avocado '}, 'MqCKsUbTPGQJxLL75tGc5F': {'multiple_choice': ' 50% of the stands are'}, 'QH2k6NnZ5DxMLEeQQF8net': {'multiple_choice': ' plum '}, 'QqviUwQkfAndzidCzfJFKS': {'multiple_choice': ' Buses are used as a'}, 'R647v79wCuGwSJmeooBxyY': {'multiple_choice': ' FLEE THE MOUN'}, 'RAq5ExoFdoDbbU97rvFYfZ': {'multiple_choice': ' dodgers '}, 'RBTyZFjfaXXGuDBCesAqcV': {'multiple_choice': ' adidas '}, 'U2c5ooPZTZY7cc6xGBcFuM': {'multiple_choice': ' rosemary, pickles,'}, 'WmFJXxTJibdaLUQiLHKPNg': {'multiple_choice': ' yes '}, 'Wsm6n4QiLcUf8UEmRUCdNL': {'multiple_choice': ' victorian '}, 'WwzDYpWLZsus6tMdSzVhWk': {'multiple_choice': ' catcher '}, 'XPhow2MD6num6LkVWv2WDC': {'multiple_choice': ' Sing, play, pray,'}, 'ZQKmx3C4YgDDUWd34gaPhS': {'multiple_choice': ' dogs. '}, 'Zg7XNQn9CZt3jkATUMXFhp': {'multiple_choice': ' ponytail '}, 'a7EiGZsffnAC9nVsb9Y7AY': {'multiple_choice': ' lefthanded '}, 'ab8eLKrdMaUhKCHtrDknSy': {'multiple_choice': ' because he is in the highway'}, 'aqnbMDKEYEGFpVGpxuM6w4': {'multiple_choice': ' yes '}, 'bDqH62XFybrPPhHAUCbPHb': {'multiple_choice': ' warriors '}, 'cEtogP8bKLXGuFtxeEqkvZ': {'multiple_choice': ' duck. '}, 'gurW28uKknkS6kmv6aPa6X': {'multiple_choice': ' ashes '}, 'iEWtnFwjAXAqCFXiopTTZs': {'multiple_choice': ' yes, a very big decision'}, 'iGmzkJ63JuV4MwnQo2B6Jb': {'multiple_choice': ' headlights, sunroof.'}, 'iXG9vTJKiKBbMcgyngPRpH': {'multiple_choice': ' none '}, 'mf7iP3eaca7zncQHvBLbEF': {'multiple_choice': ' loreal '}, 'n6paCuMnYEcapWb2TqLYoa': {'multiple_choice': ' polka dots. '}, 'nZANMFWTuwNWznuT9RBNXr': {'multiple_choice': ' Do not walk. '}}\n",
      "eval_aokvqa_score 0.0\n"
     ]
    }
   ],
   "source": [
    "for k, i in exp_setup.items():\n",
    "    print(k, i)"
   ]
  },
  {
   "cell_type": "code",
   "execution_count": null,
   "metadata": {},
   "outputs": [],
   "source": []
  },
  {
   "cell_type": "code",
   "execution_count": null,
   "metadata": {},
   "outputs": [],
   "source": []
  },
  {
   "cell_type": "code",
   "execution_count": null,
   "metadata": {},
   "outputs": [],
   "source": []
  },
  {
   "cell_type": "code",
   "execution_count": null,
   "metadata": {},
   "outputs": [],
   "source": []
  },
  {
   "cell_type": "code",
   "execution_count": null,
   "metadata": {},
   "outputs": [],
   "source": []
  },
  {
   "cell_type": "code",
   "execution_count": null,
   "metadata": {},
   "outputs": [],
   "source": []
  },
  {
   "cell_type": "code",
   "execution_count": null,
   "metadata": {},
   "outputs": [],
   "source": []
  },
  {
   "cell_type": "code",
   "execution_count": null,
   "metadata": {},
   "outputs": [],
   "source": []
  },
  {
   "cell_type": "code",
   "execution_count": null,
   "metadata": {},
   "outputs": [
    {
     "name": "stdout",
     "output_type": "stream",
     "text": [
      "0.0\n"
     ]
    }
   ],
   "source": [
    "print(eval_aokvqa(eval_set, exp_setup['predictions'], multiple_choice=True, strict=False))"
   ]
  }
 ],
 "metadata": {
  "kernelspec": {
   "display_name": "nlp",
   "language": "python",
   "name": "python3"
  },
  "language_info": {
   "codemirror_mode": {
    "name": "ipython",
    "version": 3
   },
   "file_extension": ".py",
   "mimetype": "text/x-python",
   "name": "python",
   "nbconvert_exporter": "python",
   "pygments_lexer": "ipython3",
   "version": "3.9.13"
  },
  "orig_nbformat": 4,
  "vscode": {
   "interpreter": {
    "hash": "6dd78b44acf79f242ecca224d05742a1b089d3d2b8416bfe26aa6b4466f63f70"
   }
  }
 },
 "nbformat": 4,
 "nbformat_minor": 2
}
